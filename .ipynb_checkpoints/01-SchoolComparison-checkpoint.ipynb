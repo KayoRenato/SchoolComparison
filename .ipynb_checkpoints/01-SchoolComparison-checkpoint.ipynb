{
 "cells": [
  {
   "cell_type": "markdown",
   "metadata": {},
   "source": [
    "# <font color='blue'>Análise de Dados Escolares com Pandas</font>"
   ]
  },
  {
   "cell_type": "code",
   "execution_count": 153,
   "metadata": {},
   "outputs": [
    {
     "name": "stdout",
     "output_type": "stream",
     "text": [
      "Versão da Linguagem Python Usada Neste Jupyter Notebook: 3.9.12\n"
     ]
    }
   ],
   "source": [
    "# Versão da Linguagem Python\n",
    "from platform import python_version\n",
    "print('Versão da Linguagem Python Usada Neste Jupyter Notebook:', python_version())"
   ]
  },
  {
   "cell_type": "code",
   "execution_count": 154,
   "metadata": {},
   "outputs": [],
   "source": [
    "# Imports\n",
    "import pandas as pd"
   ]
  },
  {
   "cell_type": "markdown",
   "metadata": {},
   "source": [
    "## Carregando os Dados"
   ]
  },
  {
   "cell_type": "code",
   "execution_count": 155,
   "metadata": {},
   "outputs": [],
   "source": [
    "# Carrega o dataset de escolas\n",
    "dados_escolas = pd.read_csv(\"dataset_escolas.csv\")"
   ]
  },
  {
   "cell_type": "code",
   "execution_count": 156,
   "metadata": {},
   "outputs": [
    {
     "data": {
      "text/plain": [
       "(15, 5)"
      ]
     },
     "execution_count": 156,
     "metadata": {},
     "output_type": "execute_result"
    }
   ],
   "source": [
    "# Shape\n",
    "dados_escolas.shape"
   ]
  },
  {
   "cell_type": "code",
   "execution_count": 157,
   "metadata": {},
   "outputs": [
    {
     "data": {
      "text/html": [
       "<div>\n",
       "<style scoped>\n",
       "    .dataframe tbody tr th:only-of-type {\n",
       "        vertical-align: middle;\n",
       "    }\n",
       "\n",
       "    .dataframe tbody tr th {\n",
       "        vertical-align: top;\n",
       "    }\n",
       "\n",
       "    .dataframe thead th {\n",
       "        text-align: right;\n",
       "    }\n",
       "</style>\n",
       "<table border=\"1\" class=\"dataframe\">\n",
       "  <thead>\n",
       "    <tr style=\"text-align: right;\">\n",
       "      <th></th>\n",
       "      <th>ID_Escola</th>\n",
       "      <th>Nome_Escola</th>\n",
       "      <th>Tipo_Escola</th>\n",
       "      <th>Numero_Alunos</th>\n",
       "      <th>Orcamento_Anual</th>\n",
       "    </tr>\n",
       "  </thead>\n",
       "  <tbody>\n",
       "    <tr>\n",
       "      <th>0</th>\n",
       "      <td>0</td>\n",
       "      <td>Escola A</td>\n",
       "      <td>Publica</td>\n",
       "      <td>2917</td>\n",
       "      <td>1910635</td>\n",
       "    </tr>\n",
       "    <tr>\n",
       "      <th>1</th>\n",
       "      <td>1</td>\n",
       "      <td>Escola B</td>\n",
       "      <td>Publica</td>\n",
       "      <td>2949</td>\n",
       "      <td>1884411</td>\n",
       "    </tr>\n",
       "    <tr>\n",
       "      <th>2</th>\n",
       "      <td>2</td>\n",
       "      <td>Escola C</td>\n",
       "      <td>Particular</td>\n",
       "      <td>1761</td>\n",
       "      <td>1056600</td>\n",
       "    </tr>\n",
       "    <tr>\n",
       "      <th>3</th>\n",
       "      <td>3</td>\n",
       "      <td>Escola D</td>\n",
       "      <td>Publica</td>\n",
       "      <td>4635</td>\n",
       "      <td>3022020</td>\n",
       "    </tr>\n",
       "    <tr>\n",
       "      <th>4</th>\n",
       "      <td>4</td>\n",
       "      <td>Escola E</td>\n",
       "      <td>Particular</td>\n",
       "      <td>1468</td>\n",
       "      <td>917500</td>\n",
       "    </tr>\n",
       "  </tbody>\n",
       "</table>\n",
       "</div>"
      ],
      "text/plain": [
       "   ID_Escola Nome_Escola Tipo_Escola  Numero_Alunos  Orcamento_Anual\n",
       "0          0    Escola A     Publica           2917          1910635\n",
       "1          1    Escola B     Publica           2949          1884411\n",
       "2          2    Escola C  Particular           1761          1056600\n",
       "3          3    Escola D     Publica           4635          3022020\n",
       "4          4    Escola E  Particular           1468           917500"
      ]
     },
     "execution_count": 157,
     "metadata": {},
     "output_type": "execute_result"
    }
   ],
   "source": [
    "# Visualiza\n",
    "dados_escolas.head()"
   ]
  },
  {
   "cell_type": "code",
   "execution_count": 158,
   "metadata": {},
   "outputs": [],
   "source": [
    "# Dataset de estudantes\n",
    "dados_estudantes = pd.read_csv(\"dataset_estudantes.csv\")"
   ]
  },
  {
   "cell_type": "code",
   "execution_count": 159,
   "metadata": {},
   "outputs": [
    {
     "data": {
      "text/plain": [
       "(39160, 7)"
      ]
     },
     "execution_count": 159,
     "metadata": {},
     "output_type": "execute_result"
    }
   ],
   "source": [
    "# Shape\n",
    "dados_estudantes.shape"
   ]
  },
  {
   "cell_type": "code",
   "execution_count": 160,
   "metadata": {},
   "outputs": [
    {
     "data": {
      "text/html": [
       "<div>\n",
       "<style scoped>\n",
       "    .dataframe tbody tr th:only-of-type {\n",
       "        vertical-align: middle;\n",
       "    }\n",
       "\n",
       "    .dataframe tbody tr th {\n",
       "        vertical-align: top;\n",
       "    }\n",
       "\n",
       "    .dataframe thead th {\n",
       "        text-align: right;\n",
       "    }\n",
       "</style>\n",
       "<table border=\"1\" class=\"dataframe\">\n",
       "  <thead>\n",
       "    <tr style=\"text-align: right;\">\n",
       "      <th></th>\n",
       "      <th>ID_Estudante</th>\n",
       "      <th>Nome_Estudante</th>\n",
       "      <th>Genero</th>\n",
       "      <th>Serie</th>\n",
       "      <th>Nome_Escola</th>\n",
       "      <th>Nota_Redacao</th>\n",
       "      <th>Nota_Matematica</th>\n",
       "    </tr>\n",
       "  </thead>\n",
       "  <tbody>\n",
       "    <tr>\n",
       "      <th>0</th>\n",
       "      <td>0</td>\n",
       "      <td>Kevin Bradley</td>\n",
       "      <td>M</td>\n",
       "      <td>6</td>\n",
       "      <td>Escola A</td>\n",
       "      <td>66</td>\n",
       "      <td>79</td>\n",
       "    </tr>\n",
       "    <tr>\n",
       "      <th>1</th>\n",
       "      <td>1</td>\n",
       "      <td>Paul Smith</td>\n",
       "      <td>M</td>\n",
       "      <td>9</td>\n",
       "      <td>Escola A</td>\n",
       "      <td>94</td>\n",
       "      <td>61</td>\n",
       "    </tr>\n",
       "    <tr>\n",
       "      <th>2</th>\n",
       "      <td>2</td>\n",
       "      <td>John Rodriguez</td>\n",
       "      <td>M</td>\n",
       "      <td>9</td>\n",
       "      <td>Escola A</td>\n",
       "      <td>90</td>\n",
       "      <td>60</td>\n",
       "    </tr>\n",
       "    <tr>\n",
       "      <th>3</th>\n",
       "      <td>3</td>\n",
       "      <td>Oliver Scott</td>\n",
       "      <td>M</td>\n",
       "      <td>9</td>\n",
       "      <td>Escola A</td>\n",
       "      <td>67</td>\n",
       "      <td>58</td>\n",
       "    </tr>\n",
       "    <tr>\n",
       "      <th>4</th>\n",
       "      <td>4</td>\n",
       "      <td>William Ray</td>\n",
       "      <td>F</td>\n",
       "      <td>6</td>\n",
       "      <td>Escola A</td>\n",
       "      <td>97</td>\n",
       "      <td>84</td>\n",
       "    </tr>\n",
       "  </tbody>\n",
       "</table>\n",
       "</div>"
      ],
      "text/plain": [
       "   ID_Estudante  Nome_Estudante Genero  Serie Nome_Escola  Nota_Redacao  \\\n",
       "0             0   Kevin Bradley      M      6    Escola A            66   \n",
       "1             1      Paul Smith      M      9    Escola A            94   \n",
       "2             2  John Rodriguez      M      9    Escola A            90   \n",
       "3             3    Oliver Scott      M      9    Escola A            67   \n",
       "4             4     William Ray      F      6    Escola A            97   \n",
       "\n",
       "   Nota_Matematica  \n",
       "0               79  \n",
       "1               61  \n",
       "2               60  \n",
       "3               58  \n",
       "4               84  "
      ]
     },
     "execution_count": 160,
     "metadata": {},
     "output_type": "execute_result"
    }
   ],
   "source": [
    "# Visualiza\n",
    "dados_estudantes.head()"
   ]
  },
  {
   "cell_type": "code",
   "execution_count": 161,
   "metadata": {},
   "outputs": [],
   "source": [
    "# Combina os datasets\n",
    "dados_full = pd.merge(dados_estudantes, dados_escolas, how = \"left\", on = [\"Nome_Escola\", \"Nome_Escola\"])"
   ]
  },
  {
   "cell_type": "code",
   "execution_count": 162,
   "metadata": {},
   "outputs": [
    {
     "data": {
      "text/plain": [
       "(39160, 11)"
      ]
     },
     "execution_count": 162,
     "metadata": {},
     "output_type": "execute_result"
    }
   ],
   "source": [
    "# Shape\n",
    "dados_full.shape"
   ]
  },
  {
   "cell_type": "code",
   "execution_count": 163,
   "metadata": {},
   "outputs": [
    {
     "data": {
      "text/html": [
       "<div>\n",
       "<style scoped>\n",
       "    .dataframe tbody tr th:only-of-type {\n",
       "        vertical-align: middle;\n",
       "    }\n",
       "\n",
       "    .dataframe tbody tr th {\n",
       "        vertical-align: top;\n",
       "    }\n",
       "\n",
       "    .dataframe thead th {\n",
       "        text-align: right;\n",
       "    }\n",
       "</style>\n",
       "<table border=\"1\" class=\"dataframe\">\n",
       "  <thead>\n",
       "    <tr style=\"text-align: right;\">\n",
       "      <th></th>\n",
       "      <th>ID_Estudante</th>\n",
       "      <th>Nome_Estudante</th>\n",
       "      <th>Genero</th>\n",
       "      <th>Serie</th>\n",
       "      <th>Nome_Escola</th>\n",
       "      <th>Nota_Redacao</th>\n",
       "      <th>Nota_Matematica</th>\n",
       "      <th>ID_Escola</th>\n",
       "      <th>Tipo_Escola</th>\n",
       "      <th>Numero_Alunos</th>\n",
       "      <th>Orcamento_Anual</th>\n",
       "    </tr>\n",
       "  </thead>\n",
       "  <tbody>\n",
       "    <tr>\n",
       "      <th>0</th>\n",
       "      <td>0</td>\n",
       "      <td>Kevin Bradley</td>\n",
       "      <td>M</td>\n",
       "      <td>6</td>\n",
       "      <td>Escola A</td>\n",
       "      <td>66</td>\n",
       "      <td>79</td>\n",
       "      <td>0</td>\n",
       "      <td>Publica</td>\n",
       "      <td>2917</td>\n",
       "      <td>1910635</td>\n",
       "    </tr>\n",
       "    <tr>\n",
       "      <th>1</th>\n",
       "      <td>1</td>\n",
       "      <td>Paul Smith</td>\n",
       "      <td>M</td>\n",
       "      <td>9</td>\n",
       "      <td>Escola A</td>\n",
       "      <td>94</td>\n",
       "      <td>61</td>\n",
       "      <td>0</td>\n",
       "      <td>Publica</td>\n",
       "      <td>2917</td>\n",
       "      <td>1910635</td>\n",
       "    </tr>\n",
       "    <tr>\n",
       "      <th>2</th>\n",
       "      <td>2</td>\n",
       "      <td>John Rodriguez</td>\n",
       "      <td>M</td>\n",
       "      <td>9</td>\n",
       "      <td>Escola A</td>\n",
       "      <td>90</td>\n",
       "      <td>60</td>\n",
       "      <td>0</td>\n",
       "      <td>Publica</td>\n",
       "      <td>2917</td>\n",
       "      <td>1910635</td>\n",
       "    </tr>\n",
       "    <tr>\n",
       "      <th>3</th>\n",
       "      <td>3</td>\n",
       "      <td>Oliver Scott</td>\n",
       "      <td>M</td>\n",
       "      <td>9</td>\n",
       "      <td>Escola A</td>\n",
       "      <td>67</td>\n",
       "      <td>58</td>\n",
       "      <td>0</td>\n",
       "      <td>Publica</td>\n",
       "      <td>2917</td>\n",
       "      <td>1910635</td>\n",
       "    </tr>\n",
       "    <tr>\n",
       "      <th>4</th>\n",
       "      <td>4</td>\n",
       "      <td>William Ray</td>\n",
       "      <td>F</td>\n",
       "      <td>6</td>\n",
       "      <td>Escola A</td>\n",
       "      <td>97</td>\n",
       "      <td>84</td>\n",
       "      <td>0</td>\n",
       "      <td>Publica</td>\n",
       "      <td>2917</td>\n",
       "      <td>1910635</td>\n",
       "    </tr>\n",
       "  </tbody>\n",
       "</table>\n",
       "</div>"
      ],
      "text/plain": [
       "   ID_Estudante  Nome_Estudante Genero  Serie Nome_Escola  Nota_Redacao  \\\n",
       "0             0   Kevin Bradley      M      6    Escola A            66   \n",
       "1             1      Paul Smith      M      9    Escola A            94   \n",
       "2             2  John Rodriguez      M      9    Escola A            90   \n",
       "3             3    Oliver Scott      M      9    Escola A            67   \n",
       "4             4     William Ray      F      6    Escola A            97   \n",
       "\n",
       "   Nota_Matematica  ID_Escola Tipo_Escola  Numero_Alunos  Orcamento_Anual  \n",
       "0               79          0     Publica           2917          1910635  \n",
       "1               61          0     Publica           2917          1910635  \n",
       "2               60          0     Publica           2917          1910635  \n",
       "3               58          0     Publica           2917          1910635  \n",
       "4               84          0     Publica           2917          1910635  "
      ]
     },
     "execution_count": 163,
     "metadata": {},
     "output_type": "execute_result"
    }
   ],
   "source": [
    "# Visualiza\n",
    "dados_full.head()"
   ]
  },
  {
   "cell_type": "code",
   "execution_count": 164,
   "metadata": {},
   "outputs": [
    {
     "data": {
      "text/plain": [
       "array([6, 9, 8, 7])"
      ]
     },
     "execution_count": 164,
     "metadata": {},
     "output_type": "execute_result"
    }
   ],
   "source": [
    "# Séries escolares no dataset\n",
    "dados_full[\"Serie\"].unique()"
   ]
  },
  {
   "cell_type": "code",
   "execution_count": 165,
   "metadata": {},
   "outputs": [
    {
     "data": {
      "text/plain": [
       "array(['M', 'F'], dtype=object)"
      ]
     },
     "execution_count": 165,
     "metadata": {},
     "output_type": "execute_result"
    }
   ],
   "source": [
    "# Genero\n",
    "dados_full[\"Genero\"].unique()"
   ]
  },
  {
   "cell_type": "markdown",
   "metadata": {},
   "source": [
    "## Business Questions"
   ]
  },
  {
   "cell_type": "markdown",
   "metadata": {},
   "source": [
    "> **1- Temos dados de quantas escolas?**"
   ]
  },
  {
   "cell_type": "code",
   "execution_count": 166,
   "metadata": {},
   "outputs": [
    {
     "data": {
      "text/plain": [
       "15"
      ]
     },
     "execution_count": 166,
     "metadata": {},
     "output_type": "execute_result"
    }
   ],
   "source": [
    "total_escolas = len(dados_full[\"Nome_Escola\"].unique()); total_escolas"
   ]
  },
  {
   "cell_type": "markdown",
   "metadata": {},
   "source": [
    "> **2- Qual o total de registros de estudantes na base de dados?**"
   ]
  },
  {
   "cell_type": "code",
   "execution_count": 167,
   "metadata": {},
   "outputs": [
    {
     "data": {
      "text/plain": [
       "39160"
      ]
     },
     "execution_count": 167,
     "metadata": {},
     "output_type": "execute_result"
    }
   ],
   "source": [
    "total_estudantes = dados_full[\"ID_Estudante\"].count(); total_estudantes"
   ]
  },
  {
   "cell_type": "code",
   "execution_count": 168,
   "metadata": {},
   "outputs": [
    {
     "data": {
      "text/plain": [
       "39160"
      ]
     },
     "execution_count": 168,
     "metadata": {},
     "output_type": "execute_result"
    }
   ],
   "source": [
    "total_estudantes_2 = len(dados_full[\"ID_Estudante\"].unique()); total_estudantes_2"
   ]
  },
  {
   "cell_type": "markdown",
   "metadata": {},
   "source": [
    "> **3- Qual o orçamento total considerando todas as escolas?**"
   ]
  },
  {
   "cell_type": "code",
   "execution_count": 169,
   "metadata": {},
   "outputs": [
    {
     "data": {
      "text/plain": [
       "24649428"
      ]
     },
     "execution_count": 169,
     "metadata": {},
     "output_type": "execute_result"
    }
   ],
   "source": [
    "total_orc = dados_escolas[\"Orcamento_Anual\"].sum(); total_orc"
   ]
  },
  {
   "cell_type": "markdown",
   "metadata": {},
   "source": [
    "> **4- Qual a média da nota dos alunos em Redação?**"
   ]
  },
  {
   "cell_type": "code",
   "execution_count": 170,
   "metadata": {},
   "outputs": [
    {
     "data": {
      "text/plain": [
       "81.87574055158325"
      ]
     },
     "execution_count": 170,
     "metadata": {},
     "output_type": "execute_result"
    }
   ],
   "source": [
    "media_redacao = dados_full[\"Nota_Redacao\"].mean()\n",
    "media_redacao"
   ]
  },
  {
   "cell_type": "markdown",
   "metadata": {},
   "source": [
    "> **5- Qual a média da nota dos alunos em Matemática?**"
   ]
  },
  {
   "cell_type": "code",
   "execution_count": 171,
   "metadata": {},
   "outputs": [
    {
     "data": {
      "text/plain": [
       "78.98493360572012"
      ]
     },
     "execution_count": 171,
     "metadata": {},
     "output_type": "execute_result"
    }
   ],
   "source": [
    "media_matematica = dados_full[\"Nota_Matematica\"].mean()\n",
    "media_matematica"
   ]
  },
  {
   "cell_type": "markdown",
   "metadata": {},
   "source": [
    "> **6- Considerando que a nota de aprovação é 70, quantos alunos foram aprovados em Redação? (Entregue o resultado em valor absoluto e percentual)**"
   ]
  },
  {
   "cell_type": "code",
   "execution_count": 172,
   "metadata": {},
   "outputs": [
    {
     "data": {
      "text/plain": [
       "33600"
      ]
     },
     "execution_count": 172,
     "metadata": {},
     "output_type": "execute_result"
    }
   ],
   "source": [
    "contagem_aprovados_red = dados_full[(dados_full[\"Nota_Redacao\"] >= 70)].count()[\"Nome_Estudante\"]\n",
    "contagem_aprovados_red"
   ]
  },
  {
   "cell_type": "code",
   "execution_count": 173,
   "metadata": {},
   "outputs": [
    {
     "data": {
      "text/plain": [
       "85.80183861082737"
      ]
     },
     "execution_count": 173,
     "metadata": {},
     "output_type": "execute_result"
    }
   ],
   "source": [
    "percentual_aprovados_red = contagem_aprovados_red / float(total_estudantes) * 100\n",
    "percentual_aprovados_red"
   ]
  },
  {
   "cell_type": "markdown",
   "metadata": {},
   "source": [
    "> **7- Considerando que a nota de aprovação é 70, quantos alunos foram aprovados em Matemática? (Entregue o resultado em valor absoluto e percentual)**"
   ]
  },
  {
   "cell_type": "code",
   "execution_count": 174,
   "metadata": {},
   "outputs": [
    {
     "data": {
      "text/plain": [
       "29360"
      ]
     },
     "execution_count": 174,
     "metadata": {},
     "output_type": "execute_result"
    }
   ],
   "source": [
    "contagem_aprovados_mat = dados_full[(dados_full[\"Nota_Matematica\"] >= 70)].count()[\"Nome_Estudante\"]\n",
    "contagem_aprovados_mat"
   ]
  },
  {
   "cell_type": "code",
   "execution_count": 175,
   "metadata": {},
   "outputs": [
    {
     "data": {
      "text/plain": [
       "74.97446373850867"
      ]
     },
     "execution_count": 175,
     "metadata": {},
     "output_type": "execute_result"
    }
   ],
   "source": [
    "percentual_aprovados_mat = contagem_aprovados_mat / float(total_estudantes) * 100\n",
    "percentual_aprovados_mat"
   ]
  },
  {
   "cell_type": "markdown",
   "metadata": {},
   "source": [
    "> **8- Considerando que a nota de aprovação é 70, quantos alunos foram aprovados em Matemática e Redação? (Entregue o resultado em valor absoluto e percentual)**"
   ]
  },
  {
   "cell_type": "code",
   "execution_count": 176,
   "metadata": {},
   "outputs": [
    {
     "data": {
      "text/plain": [
       "25518"
      ]
     },
     "execution_count": 176,
     "metadata": {},
     "output_type": "execute_result"
    }
   ],
   "source": [
    "contagem_total_aprovados = dados_full[(dados_full[\"Nota_Matematica\"] >= 70) \n",
    "                                                  & (dados_full[\"Nota_Redacao\"] >= 70)].count()[\"Nome_Estudante\"]\n",
    "contagem_total_aprovados"
   ]
  },
  {
   "cell_type": "code",
   "execution_count": 177,
   "metadata": {},
   "outputs": [
    {
     "data": {
      "text/plain": [
       "65.16343207354444"
      ]
     },
     "execution_count": 177,
     "metadata": {},
     "output_type": "execute_result"
    }
   ],
   "source": [
    "percentual_aprovados_total = contagem_total_aprovados /  float(total_estudantes) * 100\n",
    "percentual_aprovados_total"
   ]
  },
  {
   "cell_type": "markdown",
   "metadata": {},
   "source": [
    "> **9- Crie um dataframe com os resultados das questões de 1 a 8 que você calculou acima. (Crie um dicionário e depois converta em dataframe do Pandas)**"
   ]
  },
  {
   "cell_type": "code",
   "execution_count": 178,
   "metadata": {},
   "outputs": [],
   "source": [
    "df_performance_escolar = pd.DataFrame({\"Total de Escolas\": [total_escolas], \n",
    "                                       \"Total de Estudantes\": [total_estudantes], \n",
    "                                       \"Total Orçamento\": [total_orc],\n",
    "                                       \"Nota Média em Redação\": [media_redacao], \n",
    "                                       \"Nota Média em Matemática\": [media_matematica],\n",
    "                                       \"% Aprovação Redação\": [percentual_aprovados_red],\n",
    "                                       \"% Aprovação Matemática\": [percentual_aprovados_mat],\n",
    "                                       \"% Aprovação Total\": [percentual_aprovados_total]})"
   ]
  },
  {
   "cell_type": "code",
   "execution_count": 179,
   "metadata": {},
   "outputs": [
    {
     "data": {
      "text/html": [
       "<div>\n",
       "<style scoped>\n",
       "    .dataframe tbody tr th:only-of-type {\n",
       "        vertical-align: middle;\n",
       "    }\n",
       "\n",
       "    .dataframe tbody tr th {\n",
       "        vertical-align: top;\n",
       "    }\n",
       "\n",
       "    .dataframe thead th {\n",
       "        text-align: right;\n",
       "    }\n",
       "</style>\n",
       "<table border=\"1\" class=\"dataframe\">\n",
       "  <thead>\n",
       "    <tr style=\"text-align: right;\">\n",
       "      <th></th>\n",
       "      <th>Total de Escolas</th>\n",
       "      <th>Total de Estudantes</th>\n",
       "      <th>Total Orçamento</th>\n",
       "      <th>Nota Média em Redação</th>\n",
       "      <th>Nota Média em Matemática</th>\n",
       "      <th>% Aprovação Redação</th>\n",
       "      <th>% Aprovação Matemática</th>\n",
       "      <th>% Aprovação Total</th>\n",
       "    </tr>\n",
       "  </thead>\n",
       "  <tbody>\n",
       "    <tr>\n",
       "      <th>0</th>\n",
       "      <td>15</td>\n",
       "      <td>39160</td>\n",
       "      <td>24649428</td>\n",
       "      <td>81.875741</td>\n",
       "      <td>78.984934</td>\n",
       "      <td>85.801839</td>\n",
       "      <td>74.974464</td>\n",
       "      <td>65.163432</td>\n",
       "    </tr>\n",
       "  </tbody>\n",
       "</table>\n",
       "</div>"
      ],
      "text/plain": [
       "   Total de Escolas  Total de Estudantes  Total Orçamento  \\\n",
       "0                15                39160         24649428   \n",
       "\n",
       "   Nota Média em Redação  Nota Média em Matemática  % Aprovação Redação  \\\n",
       "0              81.875741                 78.984934            85.801839   \n",
       "\n",
       "   % Aprovação Matemática  % Aprovação Total  \n",
       "0               74.974464          65.163432  "
      ]
     },
     "execution_count": 179,
     "metadata": {},
     "output_type": "execute_result"
    }
   ],
   "source": [
    "df_performance_escolar"
   ]
  },
  {
   "cell_type": "code",
   "execution_count": 180,
   "metadata": {},
   "outputs": [
    {
     "data": {
      "text/plain": [
       "pandas.core.frame.DataFrame"
      ]
     },
     "execution_count": 180,
     "metadata": {},
     "output_type": "execute_result"
    }
   ],
   "source": [
    "type(df_performance_escolar)"
   ]
  },
  {
   "cell_type": "markdown",
   "metadata": {},
   "source": [
    "> **10- Formate as colunas \"Total de Estudantes\" e \"Total Orçamento\" ajustando as casas decimais.**"
   ]
  },
  {
   "cell_type": "code",
   "execution_count": 181,
   "metadata": {},
   "outputs": [],
   "source": [
    "df_performance_escolar[\"Total Orçamento\"] = df_performance_escolar[\"Total Orçamento\"].map(\"${:,.2f}\".format)"
   ]
  },
  {
   "cell_type": "code",
   "execution_count": 182,
   "metadata": {},
   "outputs": [
    {
     "data": {
      "text/html": [
       "<div>\n",
       "<style scoped>\n",
       "    .dataframe tbody tr th:only-of-type {\n",
       "        vertical-align: middle;\n",
       "    }\n",
       "\n",
       "    .dataframe tbody tr th {\n",
       "        vertical-align: top;\n",
       "    }\n",
       "\n",
       "    .dataframe thead th {\n",
       "        text-align: right;\n",
       "    }\n",
       "</style>\n",
       "<table border=\"1\" class=\"dataframe\">\n",
       "  <thead>\n",
       "    <tr style=\"text-align: right;\">\n",
       "      <th></th>\n",
       "      <th>Total de Escolas</th>\n",
       "      <th>Total de Estudantes</th>\n",
       "      <th>Total Orçamento</th>\n",
       "      <th>Nota Média em Redação</th>\n",
       "      <th>Nota Média em Matemática</th>\n",
       "      <th>% Aprovação Redação</th>\n",
       "      <th>% Aprovação Matemática</th>\n",
       "      <th>% Aprovação Total</th>\n",
       "    </tr>\n",
       "  </thead>\n",
       "  <tbody>\n",
       "    <tr>\n",
       "      <th>0</th>\n",
       "      <td>15</td>\n",
       "      <td>39160</td>\n",
       "      <td>$24,649,428.00</td>\n",
       "      <td>81.875741</td>\n",
       "      <td>78.984934</td>\n",
       "      <td>85.801839</td>\n",
       "      <td>74.974464</td>\n",
       "      <td>65.163432</td>\n",
       "    </tr>\n",
       "  </tbody>\n",
       "</table>\n",
       "</div>"
      ],
      "text/plain": [
       "   Total de Escolas  Total de Estudantes Total Orçamento  \\\n",
       "0                15                39160  $24,649,428.00   \n",
       "\n",
       "   Nota Média em Redação  Nota Média em Matemática  % Aprovação Redação  \\\n",
       "0              81.875741                 78.984934            85.801839   \n",
       "\n",
       "   % Aprovação Matemática  % Aprovação Total  \n",
       "0               74.974464          65.163432  "
      ]
     },
     "execution_count": 182,
     "metadata": {},
     "output_type": "execute_result"
    }
   ],
   "source": [
    "df_performance_escolar"
   ]
  },
  {
   "cell_type": "markdown",
   "metadata": {},
   "source": [
    "## Análise de Dados"
   ]
  },
  {
   "cell_type": "markdown",
   "metadata": {},
   "source": [
    "**1- Entre os alunos aprovados em Redação, qual gênero obteve maior número de aprovações?**"
   ]
  },
  {
   "cell_type": "code",
   "execution_count": 183,
   "metadata": {},
   "outputs": [
    {
     "data": {
      "text/plain": [
       "F    17027\n",
       "M    16573\n",
       "Name: Genero, dtype: int64"
      ]
     },
     "execution_count": 183,
     "metadata": {},
     "output_type": "execute_result"
    }
   ],
   "source": [
    "aprovados_por_genero_red = dados_full[(dados_full[\"Nota_Redacao\"] >= 70)][\"Genero\"].value_counts()\n",
    "aprovados_por_genero_red"
   ]
  },
  {
   "cell_type": "markdown",
   "metadata": {},
   "source": [
    "**2- Entre os alunos aprovados em Matemática, qual gênero obteve maior número de aprovações?**"
   ]
  },
  {
   "cell_type": "code",
   "execution_count": 184,
   "metadata": {},
   "outputs": [
    {
     "data": {
      "text/plain": [
       "F    14835\n",
       "M    14525\n",
       "Name: Genero, dtype: int64"
      ]
     },
     "execution_count": 184,
     "metadata": {},
     "output_type": "execute_result"
    }
   ],
   "source": [
    "aprovados_por_genero_mat = dados_full[(dados_full[\"Nota_Matematica\"] >= 70)][\"Genero\"].value_counts()\n",
    "aprovados_por_genero_mat"
   ]
  },
  {
   "cell_type": "markdown",
   "metadata": {},
   "source": [
    "**3- Quais os tipos de todas as escolas em nossa base de dados?**"
   ]
  },
  {
   "cell_type": "code",
   "execution_count": 185,
   "metadata": {},
   "outputs": [
    {
     "data": {
      "text/plain": [
       "Particular    8\n",
       "Publica       7\n",
       "Name: Tipo_Escola, dtype: int64"
      ]
     },
     "execution_count": 185,
     "metadata": {},
     "output_type": "execute_result"
    }
   ],
   "source": [
    "dados_escolas[\"Tipo_Escola\"].value_counts()"
   ]
  },
  {
   "cell_type": "code",
   "execution_count": 186,
   "metadata": {},
   "outputs": [
    {
     "data": {
      "text/plain": [
       "Nome_Escola\n",
       "Escola C    Particular\n",
       "Escola E    Particular\n",
       "Escola F    Particular\n",
       "Escola G    Particular\n",
       "Escola I    Particular\n",
       "Escola J    Particular\n",
       "Escola K    Particular\n",
       "Escola O    Particular\n",
       "Escola A       Publica\n",
       "Escola B       Publica\n",
       "Escola D       Publica\n",
       "Escola H       Publica\n",
       "Escola L       Publica\n",
       "Escola M       Publica\n",
       "Escola N       Publica\n",
       "Name: Tipo_Escola, dtype: object"
      ]
     },
     "execution_count": 186,
     "metadata": {},
     "output_type": "execute_result"
    }
   ],
   "source": [
    "tipos_escolas = dados_escolas.set_index([\"Nome_Escola\"])[\"Tipo_Escola\"].sort_values()\n",
    "tipos_escolas"
   ]
  },
  {
   "cell_type": "markdown",
   "metadata": {},
   "source": [
    "**4- Qual o total de estudantes por escola?**"
   ]
  },
  {
   "cell_type": "code",
   "execution_count": 187,
   "metadata": {},
   "outputs": [
    {
     "data": {
      "text/plain": [
       "Escola I     427\n",
       "Escola J     962\n",
       "Escola E    1468\n",
       "Escola O    1625\n",
       "Escola C    1761\n",
       "Escola K    1800\n",
       "Escola G    1858\n",
       "Escola F    2283\n",
       "Escola N    2739\n",
       "Escola A    2917\n",
       "Escola B    2949\n",
       "Escola L    3999\n",
       "Escola D    4635\n",
       "Escola M    4761\n",
       "Escola H    4976\n",
       "Name: Nome_Escola, dtype: int64"
      ]
     },
     "execution_count": 187,
     "metadata": {},
     "output_type": "execute_result"
    }
   ],
   "source": [
    "total_estudantes_escola = dados_full[\"Nome_Escola\"].value_counts().sort_values()\n",
    "total_estudantes_escola"
   ]
  },
  {
   "cell_type": "markdown",
   "metadata": {},
   "source": [
    "**5- Qual o total de orçamento de cada escola per capita (por estudante)?**"
   ]
  },
  {
   "cell_type": "code",
   "execution_count": 188,
   "metadata": {},
   "outputs": [
    {
     "data": {
      "text/plain": [
       "Nome_Escola\n",
       "Escola I     248087.0\n",
       "Escola J     585858.0\n",
       "Escola E     917500.0\n",
       "Escola O    1043130.0\n",
       "Escola K    1049400.0\n",
       "Escola C    1056600.0\n",
       "Escola G    1081356.0\n",
       "Escola F    1319574.0\n",
       "Escola N    1763916.0\n",
       "Escola B    1884411.0\n",
       "Escola A    1910635.0\n",
       "Escola L    2547363.0\n",
       "Escola D    3022020.0\n",
       "Escola M    3094650.0\n",
       "Escola H    3124928.0\n",
       "Name: Orcamento_Anual, dtype: float64"
      ]
     },
     "execution_count": 188,
     "metadata": {},
     "output_type": "execute_result"
    }
   ],
   "source": [
    "orc_escola = dados_full.groupby([\"Nome_Escola\"]).mean()[\"Orcamento_Anual\"].sort_values()\n",
    "orc_escola"
   ]
  },
  {
   "cell_type": "code",
   "execution_count": 189,
   "metadata": {},
   "outputs": [
    {
     "data": {
      "text/plain": [
       "Escola F    578.000000\n",
       "Escola I    581.000000\n",
       "Escola G    582.000000\n",
       "Escola K    583.000000\n",
       "Escola C    600.000000\n",
       "Escola J    609.000000\n",
       "Escola E    625.000000\n",
       "Escola H    628.000000\n",
       "Escola L    637.000000\n",
       "Escola B    639.000000\n",
       "Escola O    641.926154\n",
       "Escola N    644.000000\n",
       "Escola M    650.000000\n",
       "Escola D    652.000000\n",
       "Escola A    655.000000\n",
       "dtype: float64"
      ]
     },
     "execution_count": 189,
     "metadata": {},
     "output_type": "execute_result"
    }
   ],
   "source": [
    "orc_escola_percapita = (orc_escola / total_estudantes_escola).sort_values()\n",
    "orc_escola_percapita"
   ]
  },
  {
   "cell_type": "code",
   "execution_count": 190,
   "metadata": {},
   "outputs": [
    {
     "data": {
      "text/plain": [
       "Index(['ID_Estudante', 'Nome_Estudante', 'Genero', 'Serie', 'Nome_Escola',\n",
       "       'Nota_Redacao', 'Nota_Matematica', 'ID_Escola', 'Tipo_Escola',\n",
       "       'Numero_Alunos', 'Orcamento_Anual'],\n",
       "      dtype='object')"
      ]
     },
     "execution_count": 190,
     "metadata": {},
     "output_type": "execute_result"
    }
   ],
   "source": [
    "dados_full.columns"
   ]
  },
  {
   "cell_type": "markdown",
   "metadata": {},
   "source": [
    "**6- Qual a nota média dos alunos em Redação para cada escola?**"
   ]
  },
  {
   "cell_type": "code",
   "execution_count": 191,
   "metadata": {},
   "outputs": [
    {
     "data": {
      "text/plain": [
       "Nome_Escola\n",
       "Escola L    80.744686\n",
       "Escola N    80.746258\n",
       "Escola D    80.934412\n",
       "Escola M    80.966394\n",
       "Escola H    81.033963\n",
       "Escola B    81.158020\n",
       "Escola A    81.182722\n",
       "Escola C    83.725724\n",
       "Escola O    83.810462\n",
       "Escola I    83.814988\n",
       "Escola E    83.816757\n",
       "Escola K    83.955000\n",
       "Escola G    83.975780\n",
       "Escola F    83.989488\n",
       "Escola J    84.044699\n",
       "Name: Nota_Redacao, dtype: float64"
      ]
     },
     "execution_count": 191,
     "metadata": {},
     "output_type": "execute_result"
    }
   ],
   "source": [
    "media_escola_red = dados_full.groupby([\"Nome_Escola\"]).mean()[\"Nota_Redacao\"].sort_values()\n",
    "media_escola_red"
   ]
  },
  {
   "cell_type": "markdown",
   "metadata": {},
   "source": [
    "**7- Qual a nota média dos alunos em Matemática para cada escola?**"
   ]
  },
  {
   "cell_type": "code",
   "execution_count": 192,
   "metadata": {},
   "outputs": [
    {
     "data": {
      "text/plain": [
       "Nome_Escola\n",
       "Escola A    76.629414\n",
       "Escola B    76.711767\n",
       "Escola L    76.842711\n",
       "Escola H    77.048432\n",
       "Escola M    77.072464\n",
       "Escola N    77.102592\n",
       "Escola D    77.289752\n",
       "Escola G    83.061895\n",
       "Escola F    83.274201\n",
       "Escola E    83.351499\n",
       "Escola C    83.359455\n",
       "Escola O    83.435077\n",
       "Escola K    83.682222\n",
       "Escola I    83.803279\n",
       "Escola J    83.839917\n",
       "Name: Nota_Matematica, dtype: float64"
      ]
     },
     "execution_count": 192,
     "metadata": {},
     "output_type": "execute_result"
    }
   ],
   "source": [
    "media_escola_mat = dados_full.groupby([\"Nome_Escola\"]).mean()[\"Nota_Matematica\"].sort_values()\n",
    "media_escola_mat"
   ]
  },
  {
   "cell_type": "code",
   "execution_count": 193,
   "metadata": {},
   "outputs": [
    {
     "data": {
      "text/plain": [
       "Index(['ID_Estudante', 'Nome_Estudante', 'Genero', 'Serie', 'Nome_Escola',\n",
       "       'Nota_Redacao', 'Nota_Matematica', 'ID_Escola', 'Tipo_Escola',\n",
       "       'Numero_Alunos', 'Orcamento_Anual'],\n",
       "      dtype='object')"
      ]
     },
     "execution_count": 193,
     "metadata": {},
     "output_type": "execute_result"
    }
   ],
   "source": [
    "dados_full.columns"
   ]
  },
  {
   "cell_type": "markdown",
   "metadata": {},
   "source": [
    "**8- Considerando somente os alunos aprovados em Redação, qual a média de alunos aprovados por escola?**"
   ]
  },
  {
   "cell_type": "code",
   "execution_count": 194,
   "metadata": {},
   "outputs": [
    {
     "data": {
      "text/html": [
       "<div>\n",
       "<style scoped>\n",
       "    .dataframe tbody tr th:only-of-type {\n",
       "        vertical-align: middle;\n",
       "    }\n",
       "\n",
       "    .dataframe tbody tr th {\n",
       "        vertical-align: top;\n",
       "    }\n",
       "\n",
       "    .dataframe thead th {\n",
       "        text-align: right;\n",
       "    }\n",
       "</style>\n",
       "<table border=\"1\" class=\"dataframe\">\n",
       "  <thead>\n",
       "    <tr style=\"text-align: right;\">\n",
       "      <th></th>\n",
       "      <th>ID_Estudante</th>\n",
       "      <th>Nome_Estudante</th>\n",
       "      <th>Genero</th>\n",
       "      <th>Serie</th>\n",
       "      <th>Nome_Escola</th>\n",
       "      <th>Nota_Redacao</th>\n",
       "      <th>Nota_Matematica</th>\n",
       "      <th>ID_Escola</th>\n",
       "      <th>Tipo_Escola</th>\n",
       "      <th>Numero_Alunos</th>\n",
       "      <th>Orcamento_Anual</th>\n",
       "    </tr>\n",
       "  </thead>\n",
       "  <tbody>\n",
       "    <tr>\n",
       "      <th>1</th>\n",
       "      <td>1</td>\n",
       "      <td>Paul Smith</td>\n",
       "      <td>M</td>\n",
       "      <td>9</td>\n",
       "      <td>Escola A</td>\n",
       "      <td>94</td>\n",
       "      <td>61</td>\n",
       "      <td>0</td>\n",
       "      <td>Publica</td>\n",
       "      <td>2917</td>\n",
       "      <td>1910635</td>\n",
       "    </tr>\n",
       "    <tr>\n",
       "      <th>2</th>\n",
       "      <td>2</td>\n",
       "      <td>John Rodriguez</td>\n",
       "      <td>M</td>\n",
       "      <td>9</td>\n",
       "      <td>Escola A</td>\n",
       "      <td>90</td>\n",
       "      <td>60</td>\n",
       "      <td>0</td>\n",
       "      <td>Publica</td>\n",
       "      <td>2917</td>\n",
       "      <td>1910635</td>\n",
       "    </tr>\n",
       "    <tr>\n",
       "      <th>4</th>\n",
       "      <td>4</td>\n",
       "      <td>William Ray</td>\n",
       "      <td>F</td>\n",
       "      <td>6</td>\n",
       "      <td>Escola A</td>\n",
       "      <td>97</td>\n",
       "      <td>84</td>\n",
       "      <td>0</td>\n",
       "      <td>Publica</td>\n",
       "      <td>2917</td>\n",
       "      <td>1910635</td>\n",
       "    </tr>\n",
       "    <tr>\n",
       "      <th>5</th>\n",
       "      <td>5</td>\n",
       "      <td>James Miranda</td>\n",
       "      <td>M</td>\n",
       "      <td>6</td>\n",
       "      <td>Escola A</td>\n",
       "      <td>94</td>\n",
       "      <td>94</td>\n",
       "      <td>0</td>\n",
       "      <td>Publica</td>\n",
       "      <td>2917</td>\n",
       "      <td>1910635</td>\n",
       "    </tr>\n",
       "    <tr>\n",
       "      <th>6</th>\n",
       "      <td>6</td>\n",
       "      <td>Benjamin Carter</td>\n",
       "      <td>F</td>\n",
       "      <td>8</td>\n",
       "      <td>Escola A</td>\n",
       "      <td>82</td>\n",
       "      <td>80</td>\n",
       "      <td>0</td>\n",
       "      <td>Publica</td>\n",
       "      <td>2917</td>\n",
       "      <td>1910635</td>\n",
       "    </tr>\n",
       "  </tbody>\n",
       "</table>\n",
       "</div>"
      ],
      "text/plain": [
       "   ID_Estudante   Nome_Estudante Genero  Serie Nome_Escola  Nota_Redacao  \\\n",
       "1             1       Paul Smith      M      9    Escola A            94   \n",
       "2             2   John Rodriguez      M      9    Escola A            90   \n",
       "4             4      William Ray      F      6    Escola A            97   \n",
       "5             5    James Miranda      M      6    Escola A            94   \n",
       "6             6  Benjamin Carter      F      8    Escola A            82   \n",
       "\n",
       "   Nota_Matematica  ID_Escola Tipo_Escola  Numero_Alunos  Orcamento_Anual  \n",
       "1               61          0     Publica           2917          1910635  \n",
       "2               60          0     Publica           2917          1910635  \n",
       "4               84          0     Publica           2917          1910635  \n",
       "5               94          0     Publica           2917          1910635  \n",
       "6               80          0     Publica           2917          1910635  "
      ]
     },
     "execution_count": 194,
     "metadata": {},
     "output_type": "execute_result"
    }
   ],
   "source": [
    "# Alunos aprovados em Redação\n",
    "aprovados_red = dados_full[(dados_full[\"Nota_Redacao\"] >= 70)]; aprovados_red.head()"
   ]
  },
  {
   "cell_type": "code",
   "execution_count": 195,
   "metadata": {},
   "outputs": [
    {
     "data": {
      "text/plain": [
       "Escola N    79.299014\n",
       "Escola L    80.220055\n",
       "Escola B    80.739234\n",
       "Escola D    80.862999\n",
       "Escola M    81.222432\n",
       "Escola A    81.316421\n",
       "Escola H    81.933280\n",
       "Escola C    95.854628\n",
       "Escola J    95.945946\n",
       "Escola I    96.252927\n",
       "Escola F    96.539641\n",
       "Escola K    96.611111\n",
       "Escola G    97.039828\n",
       "Escola E    97.138965\n",
       "Escola O    97.292308\n",
       "dtype: float64"
      ]
     },
     "execution_count": 195,
     "metadata": {},
     "output_type": "execute_result"
    }
   ],
   "source": [
    "# Média da nota em Redação por escola considerando os aprovados em Redação\n",
    "media_apr_red_esc = (aprovados_red.groupby([\"Nome_Escola\"]).count()[\"Nome_Estudante\"] / total_estudantes_escola * 100).sort_values()\n",
    "media_apr_red_esc"
   ]
  },
  {
   "cell_type": "markdown",
   "metadata": {},
   "source": [
    "**9- Considerando somente os alunos aprovados em Matemática, qual a média de alunos aprovados por escola?**"
   ]
  },
  {
   "cell_type": "code",
   "execution_count": 196,
   "metadata": {},
   "outputs": [
    {
     "data": {
      "text/html": [
       "<div>\n",
       "<style scoped>\n",
       "    .dataframe tbody tr th:only-of-type {\n",
       "        vertical-align: middle;\n",
       "    }\n",
       "\n",
       "    .dataframe tbody tr th {\n",
       "        vertical-align: top;\n",
       "    }\n",
       "\n",
       "    .dataframe thead th {\n",
       "        text-align: right;\n",
       "    }\n",
       "</style>\n",
       "<table border=\"1\" class=\"dataframe\">\n",
       "  <thead>\n",
       "    <tr style=\"text-align: right;\">\n",
       "      <th></th>\n",
       "      <th>ID_Estudante</th>\n",
       "      <th>Nome_Estudante</th>\n",
       "      <th>Genero</th>\n",
       "      <th>Serie</th>\n",
       "      <th>Nome_Escola</th>\n",
       "      <th>Nota_Redacao</th>\n",
       "      <th>Nota_Matematica</th>\n",
       "      <th>ID_Escola</th>\n",
       "      <th>Tipo_Escola</th>\n",
       "      <th>Numero_Alunos</th>\n",
       "      <th>Orcamento_Anual</th>\n",
       "    </tr>\n",
       "  </thead>\n",
       "  <tbody>\n",
       "    <tr>\n",
       "      <th>0</th>\n",
       "      <td>0</td>\n",
       "      <td>Kevin Bradley</td>\n",
       "      <td>M</td>\n",
       "      <td>6</td>\n",
       "      <td>Escola A</td>\n",
       "      <td>66</td>\n",
       "      <td>79</td>\n",
       "      <td>0</td>\n",
       "      <td>Publica</td>\n",
       "      <td>2917</td>\n",
       "      <td>1910635</td>\n",
       "    </tr>\n",
       "    <tr>\n",
       "      <th>4</th>\n",
       "      <td>4</td>\n",
       "      <td>William Ray</td>\n",
       "      <td>F</td>\n",
       "      <td>6</td>\n",
       "      <td>Escola A</td>\n",
       "      <td>97</td>\n",
       "      <td>84</td>\n",
       "      <td>0</td>\n",
       "      <td>Publica</td>\n",
       "      <td>2917</td>\n",
       "      <td>1910635</td>\n",
       "    </tr>\n",
       "    <tr>\n",
       "      <th>5</th>\n",
       "      <td>5</td>\n",
       "      <td>James Miranda</td>\n",
       "      <td>M</td>\n",
       "      <td>6</td>\n",
       "      <td>Escola A</td>\n",
       "      <td>94</td>\n",
       "      <td>94</td>\n",
       "      <td>0</td>\n",
       "      <td>Publica</td>\n",
       "      <td>2917</td>\n",
       "      <td>1910635</td>\n",
       "    </tr>\n",
       "    <tr>\n",
       "      <th>6</th>\n",
       "      <td>6</td>\n",
       "      <td>Benjamin Carter</td>\n",
       "      <td>F</td>\n",
       "      <td>8</td>\n",
       "      <td>Escola A</td>\n",
       "      <td>82</td>\n",
       "      <td>80</td>\n",
       "      <td>0</td>\n",
       "      <td>Publica</td>\n",
       "      <td>2917</td>\n",
       "      <td>1910635</td>\n",
       "    </tr>\n",
       "    <tr>\n",
       "      <th>8</th>\n",
       "      <td>8</td>\n",
       "      <td>Ethan Roth</td>\n",
       "      <td>M</td>\n",
       "      <td>7</td>\n",
       "      <td>Escola A</td>\n",
       "      <td>95</td>\n",
       "      <td>87</td>\n",
       "      <td>0</td>\n",
       "      <td>Publica</td>\n",
       "      <td>2917</td>\n",
       "      <td>1910635</td>\n",
       "    </tr>\n",
       "  </tbody>\n",
       "</table>\n",
       "</div>"
      ],
      "text/plain": [
       "   ID_Estudante   Nome_Estudante Genero  Serie Nome_Escola  Nota_Redacao  \\\n",
       "0             0    Kevin Bradley      M      6    Escola A            66   \n",
       "4             4      William Ray      F      6    Escola A            97   \n",
       "5             5    James Miranda      M      6    Escola A            94   \n",
       "6             6  Benjamin Carter      F      8    Escola A            82   \n",
       "8             8       Ethan Roth      M      7    Escola A            95   \n",
       "\n",
       "   Nota_Matematica  ID_Escola Tipo_Escola  Numero_Alunos  Orcamento_Anual  \n",
       "0               79          0     Publica           2917          1910635  \n",
       "4               84          0     Publica           2917          1910635  \n",
       "5               94          0     Publica           2917          1910635  \n",
       "6               80          0     Publica           2917          1910635  \n",
       "8               87          0     Publica           2917          1910635  "
      ]
     },
     "execution_count": 196,
     "metadata": {},
     "output_type": "execute_result"
    }
   ],
   "source": [
    "# Alunos aprovados em Matemática\n",
    "aprovados_mat = dados_full[(dados_full[\"Nota_Matematica\"] >= 70)]; aprovados_mat.head()"
   ]
  },
  {
   "cell_type": "code",
   "execution_count": 197,
   "metadata": {},
   "outputs": [
    {
     "data": {
      "text/plain": [
       "Escola A    65.683922\n",
       "Escola B    65.988471\n",
       "Escola M    66.057551\n",
       "Escola L    66.366592\n",
       "Escola H    66.680064\n",
       "Escola D    66.752967\n",
       "Escola N    68.309602\n",
       "Escola I    92.505855\n",
       "Escola O    93.230769\n",
       "Escola K    93.333333\n",
       "Escola E    93.392371\n",
       "Escola C    93.867121\n",
       "Escola F    93.867718\n",
       "Escola G    94.133477\n",
       "Escola J    94.594595\n",
       "dtype: float64"
      ]
     },
     "execution_count": 197,
     "metadata": {},
     "output_type": "execute_result"
    }
   ],
   "source": [
    "# Média da nota em Matemática por escola considerando os aprovados em Matemática\n",
    "media_apr_mat_esc = (aprovados_mat.groupby([\"Nome_Escola\"]).count()[\"Nome_Estudante\"]/ total_estudantes_escola * 100).sort_values()\n",
    "media_apr_mat_esc"
   ]
  },
  {
   "cell_type": "markdown",
   "metadata": {},
   "source": [
    "**10- Considerando alunos aprovados em Matemática e Redação, qual foi a média de alunos aprovados por escola?**"
   ]
  },
  {
   "cell_type": "code",
   "execution_count": 198,
   "metadata": {},
   "outputs": [
    {
     "data": {
      "text/html": [
       "<div>\n",
       "<style scoped>\n",
       "    .dataframe tbody tr th:only-of-type {\n",
       "        vertical-align: middle;\n",
       "    }\n",
       "\n",
       "    .dataframe tbody tr th {\n",
       "        vertical-align: top;\n",
       "    }\n",
       "\n",
       "    .dataframe thead th {\n",
       "        text-align: right;\n",
       "    }\n",
       "</style>\n",
       "<table border=\"1\" class=\"dataframe\">\n",
       "  <thead>\n",
       "    <tr style=\"text-align: right;\">\n",
       "      <th></th>\n",
       "      <th>ID_Estudante</th>\n",
       "      <th>Nome_Estudante</th>\n",
       "      <th>Genero</th>\n",
       "      <th>Serie</th>\n",
       "      <th>Nome_Escola</th>\n",
       "      <th>Nota_Redacao</th>\n",
       "      <th>Nota_Matematica</th>\n",
       "      <th>ID_Escola</th>\n",
       "      <th>Tipo_Escola</th>\n",
       "      <th>Numero_Alunos</th>\n",
       "      <th>Orcamento_Anual</th>\n",
       "    </tr>\n",
       "  </thead>\n",
       "  <tbody>\n",
       "    <tr>\n",
       "      <th>4</th>\n",
       "      <td>4</td>\n",
       "      <td>William Ray</td>\n",
       "      <td>F</td>\n",
       "      <td>6</td>\n",
       "      <td>Escola A</td>\n",
       "      <td>97</td>\n",
       "      <td>84</td>\n",
       "      <td>0</td>\n",
       "      <td>Publica</td>\n",
       "      <td>2917</td>\n",
       "      <td>1910635</td>\n",
       "    </tr>\n",
       "    <tr>\n",
       "      <th>5</th>\n",
       "      <td>5</td>\n",
       "      <td>James Miranda</td>\n",
       "      <td>M</td>\n",
       "      <td>6</td>\n",
       "      <td>Escola A</td>\n",
       "      <td>94</td>\n",
       "      <td>94</td>\n",
       "      <td>0</td>\n",
       "      <td>Publica</td>\n",
       "      <td>2917</td>\n",
       "      <td>1910635</td>\n",
       "    </tr>\n",
       "    <tr>\n",
       "      <th>6</th>\n",
       "      <td>6</td>\n",
       "      <td>Benjamin Carter</td>\n",
       "      <td>F</td>\n",
       "      <td>8</td>\n",
       "      <td>Escola A</td>\n",
       "      <td>82</td>\n",
       "      <td>80</td>\n",
       "      <td>0</td>\n",
       "      <td>Publica</td>\n",
       "      <td>2917</td>\n",
       "      <td>1910635</td>\n",
       "    </tr>\n",
       "    <tr>\n",
       "      <th>8</th>\n",
       "      <td>8</td>\n",
       "      <td>Ethan Roth</td>\n",
       "      <td>M</td>\n",
       "      <td>7</td>\n",
       "      <td>Escola A</td>\n",
       "      <td>95</td>\n",
       "      <td>87</td>\n",
       "      <td>0</td>\n",
       "      <td>Publica</td>\n",
       "      <td>2917</td>\n",
       "      <td>1910635</td>\n",
       "    </tr>\n",
       "    <tr>\n",
       "      <th>9</th>\n",
       "      <td>9</td>\n",
       "      <td>Jacob Greene</td>\n",
       "      <td>M</td>\n",
       "      <td>7</td>\n",
       "      <td>Escola A</td>\n",
       "      <td>96</td>\n",
       "      <td>84</td>\n",
       "      <td>0</td>\n",
       "      <td>Publica</td>\n",
       "      <td>2917</td>\n",
       "      <td>1910635</td>\n",
       "    </tr>\n",
       "  </tbody>\n",
       "</table>\n",
       "</div>"
      ],
      "text/plain": [
       "   ID_Estudante   Nome_Estudante Genero  Serie Nome_Escola  Nota_Redacao  \\\n",
       "4             4      William Ray      F      6    Escola A            97   \n",
       "5             5    James Miranda      M      6    Escola A            94   \n",
       "6             6  Benjamin Carter      F      8    Escola A            82   \n",
       "8             8       Ethan Roth      M      7    Escola A            95   \n",
       "9             9     Jacob Greene      M      7    Escola A            96   \n",
       "\n",
       "   Nota_Matematica  ID_Escola Tipo_Escola  Numero_Alunos  Orcamento_Anual  \n",
       "4               84          0     Publica           2917          1910635  \n",
       "5               94          0     Publica           2917          1910635  \n",
       "6               80          0     Publica           2917          1910635  \n",
       "8               87          0     Publica           2917          1910635  \n",
       "9               84          0     Publica           2917          1910635  "
      ]
     },
     "execution_count": 198,
     "metadata": {},
     "output_type": "execute_result"
    }
   ],
   "source": [
    "aprovados_mat_red = dados_full[(dados_full[\"Nota_Redacao\"] >= 70) & (dados_full[\"Nota_Matematica\"] >= 70)]\n",
    "aprovados_mat_red.head()"
   ]
  },
  {
   "cell_type": "code",
   "execution_count": 199,
   "metadata": {
    "scrolled": true
   },
   "outputs": [
    {
     "data": {
      "text/plain": [
       "Escola L    52.988247\n",
       "Escola B    53.204476\n",
       "Escola A    53.513884\n",
       "Escola D    53.527508\n",
       "Escola M    53.539172\n",
       "Escola N    54.289887\n",
       "Escola H    54.642283\n",
       "Escola I    89.227166\n",
       "Escola C    89.892107\n",
       "Escola K    90.333333\n",
       "Escola J    90.540541\n",
       "Escola F    90.582567\n",
       "Escola E    90.599455\n",
       "Escola O    90.892308\n",
       "Escola G    91.334769\n",
       "dtype: float64"
      ]
     },
     "execution_count": 199,
     "metadata": {},
     "output_type": "execute_result"
    }
   ],
   "source": [
    "taxa_aprovados_red_mat = (aprovados_mat_red.groupby([\"Nome_Escola\"]).count()[\"Nome_Estudante\"] / total_estudantes_escola * 100).sort_values()\n",
    "taxa_aprovados_red_mat"
   ]
  },
  {
   "cell_type": "markdown",
   "metadata": {},
   "source": [
    "Construindo um dataframe de resumo com as métricas anteriores."
   ]
  },
  {
   "cell_type": "code",
   "execution_count": 200,
   "metadata": {},
   "outputs": [],
   "source": [
    "df_resumo_performance_escolar = pd.DataFrame({\"Tipo Escola\": tipos_escolas,\n",
    "                                              \"Total Estudantes\": total_estudantes_escola,\n",
    "                                              \"Total Orçamento\": orc_escola,\n",
    "                                              \"Orçamento Por Estudante\": orc_escola_percapita,\n",
    "                                              \"Nota Média Aprovação Redação\": media_escola_red,\n",
    "                                              \"Nota Média Aprovação Matemática\": media_escola_mat,\n",
    "                                              \"% Aprovados Redação\": media_apr_red_esc,\n",
    "                                              \"% Aprovados Matemática\": media_apr_mat_esc,\n",
    "                                              \"% Geral Aprovados\": taxa_aprovados_red_mat})"
   ]
  },
  {
   "cell_type": "code",
   "execution_count": 201,
   "metadata": {},
   "outputs": [
    {
     "data": {
      "text/html": [
       "<div>\n",
       "<style scoped>\n",
       "    .dataframe tbody tr th:only-of-type {\n",
       "        vertical-align: middle;\n",
       "    }\n",
       "\n",
       "    .dataframe tbody tr th {\n",
       "        vertical-align: top;\n",
       "    }\n",
       "\n",
       "    .dataframe thead th {\n",
       "        text-align: right;\n",
       "    }\n",
       "</style>\n",
       "<table border=\"1\" class=\"dataframe\">\n",
       "  <thead>\n",
       "    <tr style=\"text-align: right;\">\n",
       "      <th></th>\n",
       "      <th>Tipo Escola</th>\n",
       "      <th>Total Estudantes</th>\n",
       "      <th>Total Orçamento</th>\n",
       "      <th>Orçamento Por Estudante</th>\n",
       "      <th>Nota Média Aprovação Redação</th>\n",
       "      <th>Nota Média Aprovação Matemática</th>\n",
       "      <th>% Aprovados Redação</th>\n",
       "      <th>% Aprovados Matemática</th>\n",
       "      <th>% Geral Aprovados</th>\n",
       "    </tr>\n",
       "  </thead>\n",
       "  <tbody>\n",
       "    <tr>\n",
       "      <th>Escola A</th>\n",
       "      <td>Publica</td>\n",
       "      <td>2917</td>\n",
       "      <td>1910635.0</td>\n",
       "      <td>655.000000</td>\n",
       "      <td>81.182722</td>\n",
       "      <td>76.629414</td>\n",
       "      <td>81.316421</td>\n",
       "      <td>65.683922</td>\n",
       "      <td>53.513884</td>\n",
       "    </tr>\n",
       "    <tr>\n",
       "      <th>Escola B</th>\n",
       "      <td>Publica</td>\n",
       "      <td>2949</td>\n",
       "      <td>1884411.0</td>\n",
       "      <td>639.000000</td>\n",
       "      <td>81.158020</td>\n",
       "      <td>76.711767</td>\n",
       "      <td>80.739234</td>\n",
       "      <td>65.988471</td>\n",
       "      <td>53.204476</td>\n",
       "    </tr>\n",
       "    <tr>\n",
       "      <th>Escola C</th>\n",
       "      <td>Particular</td>\n",
       "      <td>1761</td>\n",
       "      <td>1056600.0</td>\n",
       "      <td>600.000000</td>\n",
       "      <td>83.725724</td>\n",
       "      <td>83.359455</td>\n",
       "      <td>95.854628</td>\n",
       "      <td>93.867121</td>\n",
       "      <td>89.892107</td>\n",
       "    </tr>\n",
       "    <tr>\n",
       "      <th>Escola D</th>\n",
       "      <td>Publica</td>\n",
       "      <td>4635</td>\n",
       "      <td>3022020.0</td>\n",
       "      <td>652.000000</td>\n",
       "      <td>80.934412</td>\n",
       "      <td>77.289752</td>\n",
       "      <td>80.862999</td>\n",
       "      <td>66.752967</td>\n",
       "      <td>53.527508</td>\n",
       "    </tr>\n",
       "    <tr>\n",
       "      <th>Escola E</th>\n",
       "      <td>Particular</td>\n",
       "      <td>1468</td>\n",
       "      <td>917500.0</td>\n",
       "      <td>625.000000</td>\n",
       "      <td>83.816757</td>\n",
       "      <td>83.351499</td>\n",
       "      <td>97.138965</td>\n",
       "      <td>93.392371</td>\n",
       "      <td>90.599455</td>\n",
       "    </tr>\n",
       "    <tr>\n",
       "      <th>Escola F</th>\n",
       "      <td>Particular</td>\n",
       "      <td>2283</td>\n",
       "      <td>1319574.0</td>\n",
       "      <td>578.000000</td>\n",
       "      <td>83.989488</td>\n",
       "      <td>83.274201</td>\n",
       "      <td>96.539641</td>\n",
       "      <td>93.867718</td>\n",
       "      <td>90.582567</td>\n",
       "    </tr>\n",
       "    <tr>\n",
       "      <th>Escola G</th>\n",
       "      <td>Particular</td>\n",
       "      <td>1858</td>\n",
       "      <td>1081356.0</td>\n",
       "      <td>582.000000</td>\n",
       "      <td>83.975780</td>\n",
       "      <td>83.061895</td>\n",
       "      <td>97.039828</td>\n",
       "      <td>94.133477</td>\n",
       "      <td>91.334769</td>\n",
       "    </tr>\n",
       "    <tr>\n",
       "      <th>Escola H</th>\n",
       "      <td>Publica</td>\n",
       "      <td>4976</td>\n",
       "      <td>3124928.0</td>\n",
       "      <td>628.000000</td>\n",
       "      <td>81.033963</td>\n",
       "      <td>77.048432</td>\n",
       "      <td>81.933280</td>\n",
       "      <td>66.680064</td>\n",
       "      <td>54.642283</td>\n",
       "    </tr>\n",
       "    <tr>\n",
       "      <th>Escola I</th>\n",
       "      <td>Particular</td>\n",
       "      <td>427</td>\n",
       "      <td>248087.0</td>\n",
       "      <td>581.000000</td>\n",
       "      <td>83.814988</td>\n",
       "      <td>83.803279</td>\n",
       "      <td>96.252927</td>\n",
       "      <td>92.505855</td>\n",
       "      <td>89.227166</td>\n",
       "    </tr>\n",
       "    <tr>\n",
       "      <th>Escola J</th>\n",
       "      <td>Particular</td>\n",
       "      <td>962</td>\n",
       "      <td>585858.0</td>\n",
       "      <td>609.000000</td>\n",
       "      <td>84.044699</td>\n",
       "      <td>83.839917</td>\n",
       "      <td>95.945946</td>\n",
       "      <td>94.594595</td>\n",
       "      <td>90.540541</td>\n",
       "    </tr>\n",
       "    <tr>\n",
       "      <th>Escola K</th>\n",
       "      <td>Particular</td>\n",
       "      <td>1800</td>\n",
       "      <td>1049400.0</td>\n",
       "      <td>583.000000</td>\n",
       "      <td>83.955000</td>\n",
       "      <td>83.682222</td>\n",
       "      <td>96.611111</td>\n",
       "      <td>93.333333</td>\n",
       "      <td>90.333333</td>\n",
       "    </tr>\n",
       "    <tr>\n",
       "      <th>Escola L</th>\n",
       "      <td>Publica</td>\n",
       "      <td>3999</td>\n",
       "      <td>2547363.0</td>\n",
       "      <td>637.000000</td>\n",
       "      <td>80.744686</td>\n",
       "      <td>76.842711</td>\n",
       "      <td>80.220055</td>\n",
       "      <td>66.366592</td>\n",
       "      <td>52.988247</td>\n",
       "    </tr>\n",
       "    <tr>\n",
       "      <th>Escola M</th>\n",
       "      <td>Publica</td>\n",
       "      <td>4761</td>\n",
       "      <td>3094650.0</td>\n",
       "      <td>650.000000</td>\n",
       "      <td>80.966394</td>\n",
       "      <td>77.072464</td>\n",
       "      <td>81.222432</td>\n",
       "      <td>66.057551</td>\n",
       "      <td>53.539172</td>\n",
       "    </tr>\n",
       "    <tr>\n",
       "      <th>Escola N</th>\n",
       "      <td>Publica</td>\n",
       "      <td>2739</td>\n",
       "      <td>1763916.0</td>\n",
       "      <td>644.000000</td>\n",
       "      <td>80.746258</td>\n",
       "      <td>77.102592</td>\n",
       "      <td>79.299014</td>\n",
       "      <td>68.309602</td>\n",
       "      <td>54.289887</td>\n",
       "    </tr>\n",
       "    <tr>\n",
       "      <th>Escola O</th>\n",
       "      <td>Particular</td>\n",
       "      <td>1625</td>\n",
       "      <td>1043130.0</td>\n",
       "      <td>641.926154</td>\n",
       "      <td>83.810462</td>\n",
       "      <td>83.435077</td>\n",
       "      <td>97.292308</td>\n",
       "      <td>93.230769</td>\n",
       "      <td>90.892308</td>\n",
       "    </tr>\n",
       "  </tbody>\n",
       "</table>\n",
       "</div>"
      ],
      "text/plain": [
       "         Tipo Escola  Total Estudantes  Total Orçamento  \\\n",
       "Escola A     Publica              2917        1910635.0   \n",
       "Escola B     Publica              2949        1884411.0   \n",
       "Escola C  Particular              1761        1056600.0   \n",
       "Escola D     Publica              4635        3022020.0   \n",
       "Escola E  Particular              1468         917500.0   \n",
       "Escola F  Particular              2283        1319574.0   \n",
       "Escola G  Particular              1858        1081356.0   \n",
       "Escola H     Publica              4976        3124928.0   \n",
       "Escola I  Particular               427         248087.0   \n",
       "Escola J  Particular               962         585858.0   \n",
       "Escola K  Particular              1800        1049400.0   \n",
       "Escola L     Publica              3999        2547363.0   \n",
       "Escola M     Publica              4761        3094650.0   \n",
       "Escola N     Publica              2739        1763916.0   \n",
       "Escola O  Particular              1625        1043130.0   \n",
       "\n",
       "          Orçamento Por Estudante  Nota Média Aprovação Redação  \\\n",
       "Escola A               655.000000                     81.182722   \n",
       "Escola B               639.000000                     81.158020   \n",
       "Escola C               600.000000                     83.725724   \n",
       "Escola D               652.000000                     80.934412   \n",
       "Escola E               625.000000                     83.816757   \n",
       "Escola F               578.000000                     83.989488   \n",
       "Escola G               582.000000                     83.975780   \n",
       "Escola H               628.000000                     81.033963   \n",
       "Escola I               581.000000                     83.814988   \n",
       "Escola J               609.000000                     84.044699   \n",
       "Escola K               583.000000                     83.955000   \n",
       "Escola L               637.000000                     80.744686   \n",
       "Escola M               650.000000                     80.966394   \n",
       "Escola N               644.000000                     80.746258   \n",
       "Escola O               641.926154                     83.810462   \n",
       "\n",
       "          Nota Média Aprovação Matemática  % Aprovados Redação  \\\n",
       "Escola A                        76.629414            81.316421   \n",
       "Escola B                        76.711767            80.739234   \n",
       "Escola C                        83.359455            95.854628   \n",
       "Escola D                        77.289752            80.862999   \n",
       "Escola E                        83.351499            97.138965   \n",
       "Escola F                        83.274201            96.539641   \n",
       "Escola G                        83.061895            97.039828   \n",
       "Escola H                        77.048432            81.933280   \n",
       "Escola I                        83.803279            96.252927   \n",
       "Escola J                        83.839917            95.945946   \n",
       "Escola K                        83.682222            96.611111   \n",
       "Escola L                        76.842711            80.220055   \n",
       "Escola M                        77.072464            81.222432   \n",
       "Escola N                        77.102592            79.299014   \n",
       "Escola O                        83.435077            97.292308   \n",
       "\n",
       "          % Aprovados Matemática  % Geral Aprovados  \n",
       "Escola A               65.683922          53.513884  \n",
       "Escola B               65.988471          53.204476  \n",
       "Escola C               93.867121          89.892107  \n",
       "Escola D               66.752967          53.527508  \n",
       "Escola E               93.392371          90.599455  \n",
       "Escola F               93.867718          90.582567  \n",
       "Escola G               94.133477          91.334769  \n",
       "Escola H               66.680064          54.642283  \n",
       "Escola I               92.505855          89.227166  \n",
       "Escola J               94.594595          90.540541  \n",
       "Escola K               93.333333          90.333333  \n",
       "Escola L               66.366592          52.988247  \n",
       "Escola M               66.057551          53.539172  \n",
       "Escola N               68.309602          54.289887  \n",
       "Escola O               93.230769          90.892308  "
      ]
     },
     "execution_count": 201,
     "metadata": {},
     "output_type": "execute_result"
    }
   ],
   "source": [
    "df_resumo_performance_escolar"
   ]
  },
  {
   "cell_type": "markdown",
   "metadata": {},
   "source": [
    "Formatamos algumas colunas."
   ]
  },
  {
   "cell_type": "code",
   "execution_count": 202,
   "metadata": {},
   "outputs": [],
   "source": [
    "df_resumo_performance_escolar[\"Total Orçamento\"] = df_resumo_performance_escolar[\"Total Orçamento\"].map(\"${:,.2f}\".format)\n",
    "df_resumo_performance_escolar[\"Orçamento Por Estudante\"] = df_resumo_performance_escolar[\"Orçamento Por Estudante\"].map(\"${:,.2f}\".format)\n",
    "#df_resumo_performance_escolar[\"Nota Média Aprovação Redação\"] = df_resumo_performance_escolar[\"Nota Média Aprovação Redação\"].map(\"{:.2f}\".format)\n",
    "#df_resumo_performance_escolar[\"Nota Média Aprovação Matemática\"] = df_resumo_performance_escolar[\"Nota Média Aprovação Matemática\"].map(\"{:.2f}\".format)\n",
    "#df_resumo_performance_escolar[\"% Aprovados Redação\"] = df_resumo_performance_escolar[\"% Aprovados Redação\"].map(\"{:.2f}\".format)\n",
    "#df_resumo_performance_escolar[\"% Aprovados Matemática\"] = df_resumo_performance_escolar[\"% Aprovados Matemática\"].map(\"{:.2f}\".format)\n",
    "#df_resumo_performance_escolar[\"% Geral Aprovados\"] = df_resumo_performance_escolar[\"% Geral Aprovados\"].map(\"{:.2f}\".format)"
   ]
  },
  {
   "cell_type": "code",
   "execution_count": 203,
   "metadata": {},
   "outputs": [
    {
     "data": {
      "text/html": [
       "<div>\n",
       "<style scoped>\n",
       "    .dataframe tbody tr th:only-of-type {\n",
       "        vertical-align: middle;\n",
       "    }\n",
       "\n",
       "    .dataframe tbody tr th {\n",
       "        vertical-align: top;\n",
       "    }\n",
       "\n",
       "    .dataframe thead th {\n",
       "        text-align: right;\n",
       "    }\n",
       "</style>\n",
       "<table border=\"1\" class=\"dataframe\">\n",
       "  <thead>\n",
       "    <tr style=\"text-align: right;\">\n",
       "      <th></th>\n",
       "      <th>Tipo Escola</th>\n",
       "      <th>Total Estudantes</th>\n",
       "      <th>Total Orçamento</th>\n",
       "      <th>Orçamento Por Estudante</th>\n",
       "      <th>Nota Média Aprovação Redação</th>\n",
       "      <th>Nota Média Aprovação Matemática</th>\n",
       "      <th>% Aprovados Redação</th>\n",
       "      <th>% Aprovados Matemática</th>\n",
       "      <th>% Geral Aprovados</th>\n",
       "    </tr>\n",
       "  </thead>\n",
       "  <tbody>\n",
       "    <tr>\n",
       "      <th>Escola A</th>\n",
       "      <td>Publica</td>\n",
       "      <td>2917</td>\n",
       "      <td>$1,910,635.00</td>\n",
       "      <td>$655.00</td>\n",
       "      <td>81.18</td>\n",
       "      <td>76.63</td>\n",
       "      <td>81.32</td>\n",
       "      <td>65.68</td>\n",
       "      <td>53.51</td>\n",
       "    </tr>\n",
       "    <tr>\n",
       "      <th>Escola B</th>\n",
       "      <td>Publica</td>\n",
       "      <td>2949</td>\n",
       "      <td>$1,884,411.00</td>\n",
       "      <td>$639.00</td>\n",
       "      <td>81.16</td>\n",
       "      <td>76.71</td>\n",
       "      <td>80.74</td>\n",
       "      <td>65.99</td>\n",
       "      <td>53.20</td>\n",
       "    </tr>\n",
       "    <tr>\n",
       "      <th>Escola C</th>\n",
       "      <td>Particular</td>\n",
       "      <td>1761</td>\n",
       "      <td>$1,056,600.00</td>\n",
       "      <td>$600.00</td>\n",
       "      <td>83.73</td>\n",
       "      <td>83.36</td>\n",
       "      <td>95.85</td>\n",
       "      <td>93.87</td>\n",
       "      <td>89.89</td>\n",
       "    </tr>\n",
       "    <tr>\n",
       "      <th>Escola D</th>\n",
       "      <td>Publica</td>\n",
       "      <td>4635</td>\n",
       "      <td>$3,022,020.00</td>\n",
       "      <td>$652.00</td>\n",
       "      <td>80.93</td>\n",
       "      <td>77.29</td>\n",
       "      <td>80.86</td>\n",
       "      <td>66.75</td>\n",
       "      <td>53.53</td>\n",
       "    </tr>\n",
       "    <tr>\n",
       "      <th>Escola E</th>\n",
       "      <td>Particular</td>\n",
       "      <td>1468</td>\n",
       "      <td>$917,500.00</td>\n",
       "      <td>$625.00</td>\n",
       "      <td>83.82</td>\n",
       "      <td>83.35</td>\n",
       "      <td>97.14</td>\n",
       "      <td>93.39</td>\n",
       "      <td>90.60</td>\n",
       "    </tr>\n",
       "    <tr>\n",
       "      <th>Escola F</th>\n",
       "      <td>Particular</td>\n",
       "      <td>2283</td>\n",
       "      <td>$1,319,574.00</td>\n",
       "      <td>$578.00</td>\n",
       "      <td>83.99</td>\n",
       "      <td>83.27</td>\n",
       "      <td>96.54</td>\n",
       "      <td>93.87</td>\n",
       "      <td>90.58</td>\n",
       "    </tr>\n",
       "    <tr>\n",
       "      <th>Escola G</th>\n",
       "      <td>Particular</td>\n",
       "      <td>1858</td>\n",
       "      <td>$1,081,356.00</td>\n",
       "      <td>$582.00</td>\n",
       "      <td>83.98</td>\n",
       "      <td>83.06</td>\n",
       "      <td>97.04</td>\n",
       "      <td>94.13</td>\n",
       "      <td>91.33</td>\n",
       "    </tr>\n",
       "    <tr>\n",
       "      <th>Escola H</th>\n",
       "      <td>Publica</td>\n",
       "      <td>4976</td>\n",
       "      <td>$3,124,928.00</td>\n",
       "      <td>$628.00</td>\n",
       "      <td>81.03</td>\n",
       "      <td>77.05</td>\n",
       "      <td>81.93</td>\n",
       "      <td>66.68</td>\n",
       "      <td>54.64</td>\n",
       "    </tr>\n",
       "    <tr>\n",
       "      <th>Escola I</th>\n",
       "      <td>Particular</td>\n",
       "      <td>427</td>\n",
       "      <td>$248,087.00</td>\n",
       "      <td>$581.00</td>\n",
       "      <td>83.81</td>\n",
       "      <td>83.80</td>\n",
       "      <td>96.25</td>\n",
       "      <td>92.51</td>\n",
       "      <td>89.23</td>\n",
       "    </tr>\n",
       "    <tr>\n",
       "      <th>Escola J</th>\n",
       "      <td>Particular</td>\n",
       "      <td>962</td>\n",
       "      <td>$585,858.00</td>\n",
       "      <td>$609.00</td>\n",
       "      <td>84.04</td>\n",
       "      <td>83.84</td>\n",
       "      <td>95.95</td>\n",
       "      <td>94.59</td>\n",
       "      <td>90.54</td>\n",
       "    </tr>\n",
       "    <tr>\n",
       "      <th>Escola K</th>\n",
       "      <td>Particular</td>\n",
       "      <td>1800</td>\n",
       "      <td>$1,049,400.00</td>\n",
       "      <td>$583.00</td>\n",
       "      <td>83.95</td>\n",
       "      <td>83.68</td>\n",
       "      <td>96.61</td>\n",
       "      <td>93.33</td>\n",
       "      <td>90.33</td>\n",
       "    </tr>\n",
       "    <tr>\n",
       "      <th>Escola L</th>\n",
       "      <td>Publica</td>\n",
       "      <td>3999</td>\n",
       "      <td>$2,547,363.00</td>\n",
       "      <td>$637.00</td>\n",
       "      <td>80.74</td>\n",
       "      <td>76.84</td>\n",
       "      <td>80.22</td>\n",
       "      <td>66.37</td>\n",
       "      <td>52.99</td>\n",
       "    </tr>\n",
       "    <tr>\n",
       "      <th>Escola M</th>\n",
       "      <td>Publica</td>\n",
       "      <td>4761</td>\n",
       "      <td>$3,094,650.00</td>\n",
       "      <td>$650.00</td>\n",
       "      <td>80.97</td>\n",
       "      <td>77.07</td>\n",
       "      <td>81.22</td>\n",
       "      <td>66.06</td>\n",
       "      <td>53.54</td>\n",
       "    </tr>\n",
       "    <tr>\n",
       "      <th>Escola N</th>\n",
       "      <td>Publica</td>\n",
       "      <td>2739</td>\n",
       "      <td>$1,763,916.00</td>\n",
       "      <td>$644.00</td>\n",
       "      <td>80.75</td>\n",
       "      <td>77.10</td>\n",
       "      <td>79.30</td>\n",
       "      <td>68.31</td>\n",
       "      <td>54.29</td>\n",
       "    </tr>\n",
       "    <tr>\n",
       "      <th>Escola O</th>\n",
       "      <td>Particular</td>\n",
       "      <td>1625</td>\n",
       "      <td>$1,043,130.00</td>\n",
       "      <td>$641.93</td>\n",
       "      <td>83.81</td>\n",
       "      <td>83.44</td>\n",
       "      <td>97.29</td>\n",
       "      <td>93.23</td>\n",
       "      <td>90.89</td>\n",
       "    </tr>\n",
       "  </tbody>\n",
       "</table>\n",
       "</div>"
      ],
      "text/plain": [
       "         Tipo Escola  Total Estudantes Total Orçamento  \\\n",
       "Escola A     Publica              2917   $1,910,635.00   \n",
       "Escola B     Publica              2949   $1,884,411.00   \n",
       "Escola C  Particular              1761   $1,056,600.00   \n",
       "Escola D     Publica              4635   $3,022,020.00   \n",
       "Escola E  Particular              1468     $917,500.00   \n",
       "Escola F  Particular              2283   $1,319,574.00   \n",
       "Escola G  Particular              1858   $1,081,356.00   \n",
       "Escola H     Publica              4976   $3,124,928.00   \n",
       "Escola I  Particular               427     $248,087.00   \n",
       "Escola J  Particular               962     $585,858.00   \n",
       "Escola K  Particular              1800   $1,049,400.00   \n",
       "Escola L     Publica              3999   $2,547,363.00   \n",
       "Escola M     Publica              4761   $3,094,650.00   \n",
       "Escola N     Publica              2739   $1,763,916.00   \n",
       "Escola O  Particular              1625   $1,043,130.00   \n",
       "\n",
       "         Orçamento Por Estudante Nota Média Aprovação Redação  \\\n",
       "Escola A                 $655.00                        81.18   \n",
       "Escola B                 $639.00                        81.16   \n",
       "Escola C                 $600.00                        83.73   \n",
       "Escola D                 $652.00                        80.93   \n",
       "Escola E                 $625.00                        83.82   \n",
       "Escola F                 $578.00                        83.99   \n",
       "Escola G                 $582.00                        83.98   \n",
       "Escola H                 $628.00                        81.03   \n",
       "Escola I                 $581.00                        83.81   \n",
       "Escola J                 $609.00                        84.04   \n",
       "Escola K                 $583.00                        83.95   \n",
       "Escola L                 $637.00                        80.74   \n",
       "Escola M                 $650.00                        80.97   \n",
       "Escola N                 $644.00                        80.75   \n",
       "Escola O                 $641.93                        83.81   \n",
       "\n",
       "         Nota Média Aprovação Matemática % Aprovados Redação  \\\n",
       "Escola A                           76.63               81.32   \n",
       "Escola B                           76.71               80.74   \n",
       "Escola C                           83.36               95.85   \n",
       "Escola D                           77.29               80.86   \n",
       "Escola E                           83.35               97.14   \n",
       "Escola F                           83.27               96.54   \n",
       "Escola G                           83.06               97.04   \n",
       "Escola H                           77.05               81.93   \n",
       "Escola I                           83.80               96.25   \n",
       "Escola J                           83.84               95.95   \n",
       "Escola K                           83.68               96.61   \n",
       "Escola L                           76.84               80.22   \n",
       "Escola M                           77.07               81.22   \n",
       "Escola N                           77.10               79.30   \n",
       "Escola O                           83.44               97.29   \n",
       "\n",
       "         % Aprovados Matemática % Geral Aprovados  \n",
       "Escola A                  65.68             53.51  \n",
       "Escola B                  65.99             53.20  \n",
       "Escola C                  93.87             89.89  \n",
       "Escola D                  66.75             53.53  \n",
       "Escola E                  93.39             90.60  \n",
       "Escola F                  93.87             90.58  \n",
       "Escola G                  94.13             91.33  \n",
       "Escola H                  66.68             54.64  \n",
       "Escola I                  92.51             89.23  \n",
       "Escola J                  94.59             90.54  \n",
       "Escola K                  93.33             90.33  \n",
       "Escola L                  66.37             52.99  \n",
       "Escola M                  66.06             53.54  \n",
       "Escola N                  68.31             54.29  \n",
       "Escola O                  93.23             90.89  "
      ]
     },
     "execution_count": 203,
     "metadata": {},
     "output_type": "execute_result"
    }
   ],
   "source": [
    "df_resumo_performance_escolar"
   ]
  },
  {
   "cell_type": "code",
   "execution_count": 204,
   "metadata": {},
   "outputs": [
    {
     "data": {
      "text/html": [
       "<div>\n",
       "<style scoped>\n",
       "    .dataframe tbody tr th:only-of-type {\n",
       "        vertical-align: middle;\n",
       "    }\n",
       "\n",
       "    .dataframe tbody tr th {\n",
       "        vertical-align: top;\n",
       "    }\n",
       "\n",
       "    .dataframe thead th {\n",
       "        text-align: right;\n",
       "    }\n",
       "</style>\n",
       "<table border=\"1\" class=\"dataframe\">\n",
       "  <thead>\n",
       "    <tr style=\"text-align: right;\">\n",
       "      <th></th>\n",
       "      <th>Total Estudantes</th>\n",
       "    </tr>\n",
       "  </thead>\n",
       "  <tbody>\n",
       "    <tr>\n",
       "      <th>count</th>\n",
       "      <td>15.000000</td>\n",
       "    </tr>\n",
       "    <tr>\n",
       "      <th>mean</th>\n",
       "      <td>2610.666667</td>\n",
       "    </tr>\n",
       "    <tr>\n",
       "      <th>std</th>\n",
       "      <td>1421.408339</td>\n",
       "    </tr>\n",
       "    <tr>\n",
       "      <th>min</th>\n",
       "      <td>427.000000</td>\n",
       "    </tr>\n",
       "    <tr>\n",
       "      <th>25%</th>\n",
       "      <td>1693.000000</td>\n",
       "    </tr>\n",
       "    <tr>\n",
       "      <th>50%</th>\n",
       "      <td>2283.000000</td>\n",
       "    </tr>\n",
       "    <tr>\n",
       "      <th>75%</th>\n",
       "      <td>3474.000000</td>\n",
       "    </tr>\n",
       "    <tr>\n",
       "      <th>max</th>\n",
       "      <td>4976.000000</td>\n",
       "    </tr>\n",
       "  </tbody>\n",
       "</table>\n",
       "</div>"
      ],
      "text/plain": [
       "       Total Estudantes\n",
       "count         15.000000\n",
       "mean        2610.666667\n",
       "std         1421.408339\n",
       "min          427.000000\n",
       "25%         1693.000000\n",
       "50%         2283.000000\n",
       "75%         3474.000000\n",
       "max         4976.000000"
      ]
     },
     "execution_count": 204,
     "metadata": {},
     "output_type": "execute_result"
    }
   ],
   "source": [
    "df_resumo_performance_escolar.describe()"
   ]
  },
  {
   "cell_type": "markdown",
   "metadata": {},
   "source": [
    "**11-A- Considerando a taxa geral de aprovados, quais as 5 escolas com melhor performance?**"
   ]
  },
  {
   "cell_type": "code",
   "execution_count": 205,
   "metadata": {
    "scrolled": true
   },
   "outputs": [
    {
     "data": {
      "text/html": [
       "<div>\n",
       "<style scoped>\n",
       "    .dataframe tbody tr th:only-of-type {\n",
       "        vertical-align: middle;\n",
       "    }\n",
       "\n",
       "    .dataframe tbody tr th {\n",
       "        vertical-align: top;\n",
       "    }\n",
       "\n",
       "    .dataframe thead th {\n",
       "        text-align: right;\n",
       "    }\n",
       "</style>\n",
       "<table border=\"1\" class=\"dataframe\">\n",
       "  <thead>\n",
       "    <tr style=\"text-align: right;\">\n",
       "      <th></th>\n",
       "      <th>Tipo Escola</th>\n",
       "      <th>Total Estudantes</th>\n",
       "      <th>Total Orçamento</th>\n",
       "      <th>Orçamento Por Estudante</th>\n",
       "      <th>Nota Média Aprovação Redação</th>\n",
       "      <th>Nota Média Aprovação Matemática</th>\n",
       "      <th>% Aprovados Redação</th>\n",
       "      <th>% Aprovados Matemática</th>\n",
       "      <th>% Geral Aprovados</th>\n",
       "    </tr>\n",
       "  </thead>\n",
       "  <tbody>\n",
       "    <tr>\n",
       "      <th>Escola G</th>\n",
       "      <td>Particular</td>\n",
       "      <td>1858</td>\n",
       "      <td>$1,081,356.00</td>\n",
       "      <td>$582.00</td>\n",
       "      <td>83.98</td>\n",
       "      <td>83.06</td>\n",
       "      <td>97.04</td>\n",
       "      <td>94.13</td>\n",
       "      <td>91.33</td>\n",
       "    </tr>\n",
       "    <tr>\n",
       "      <th>Escola O</th>\n",
       "      <td>Particular</td>\n",
       "      <td>1625</td>\n",
       "      <td>$1,043,130.00</td>\n",
       "      <td>$641.93</td>\n",
       "      <td>83.81</td>\n",
       "      <td>83.44</td>\n",
       "      <td>97.29</td>\n",
       "      <td>93.23</td>\n",
       "      <td>90.89</td>\n",
       "    </tr>\n",
       "    <tr>\n",
       "      <th>Escola E</th>\n",
       "      <td>Particular</td>\n",
       "      <td>1468</td>\n",
       "      <td>$917,500.00</td>\n",
       "      <td>$625.00</td>\n",
       "      <td>83.82</td>\n",
       "      <td>83.35</td>\n",
       "      <td>97.14</td>\n",
       "      <td>93.39</td>\n",
       "      <td>90.60</td>\n",
       "    </tr>\n",
       "    <tr>\n",
       "      <th>Escola F</th>\n",
       "      <td>Particular</td>\n",
       "      <td>2283</td>\n",
       "      <td>$1,319,574.00</td>\n",
       "      <td>$578.00</td>\n",
       "      <td>83.99</td>\n",
       "      <td>83.27</td>\n",
       "      <td>96.54</td>\n",
       "      <td>93.87</td>\n",
       "      <td>90.58</td>\n",
       "    </tr>\n",
       "    <tr>\n",
       "      <th>Escola J</th>\n",
       "      <td>Particular</td>\n",
       "      <td>962</td>\n",
       "      <td>$585,858.00</td>\n",
       "      <td>$609.00</td>\n",
       "      <td>84.04</td>\n",
       "      <td>83.84</td>\n",
       "      <td>95.95</td>\n",
       "      <td>94.59</td>\n",
       "      <td>90.54</td>\n",
       "    </tr>\n",
       "  </tbody>\n",
       "</table>\n",
       "</div>"
      ],
      "text/plain": [
       "         Tipo Escola  Total Estudantes Total Orçamento  \\\n",
       "Escola G  Particular              1858   $1,081,356.00   \n",
       "Escola O  Particular              1625   $1,043,130.00   \n",
       "Escola E  Particular              1468     $917,500.00   \n",
       "Escola F  Particular              2283   $1,319,574.00   \n",
       "Escola J  Particular               962     $585,858.00   \n",
       "\n",
       "         Orçamento Por Estudante Nota Média Aprovação Redação  \\\n",
       "Escola G                 $582.00                        83.98   \n",
       "Escola O                 $641.93                        83.81   \n",
       "Escola E                 $625.00                        83.82   \n",
       "Escola F                 $578.00                        83.99   \n",
       "Escola J                 $609.00                        84.04   \n",
       "\n",
       "         Nota Média Aprovação Matemática % Aprovados Redação  \\\n",
       "Escola G                           83.06               97.04   \n",
       "Escola O                           83.44               97.29   \n",
       "Escola E                           83.35               97.14   \n",
       "Escola F                           83.27               96.54   \n",
       "Escola J                           83.84               95.95   \n",
       "\n",
       "         % Aprovados Matemática % Geral Aprovados  \n",
       "Escola G                  94.13             91.33  \n",
       "Escola O                  93.23             90.89  \n",
       "Escola E                  93.39             90.60  \n",
       "Escola F                  93.87             90.58  \n",
       "Escola J                  94.59             90.54  "
      ]
     },
     "execution_count": 205,
     "metadata": {},
     "output_type": "execute_result"
    }
   ],
   "source": [
    "top_escolas = df_resumo_performance_escolar.sort_values([\"% Geral Aprovados\"], ascending = False)\n",
    "top_escolas.head(5)"
   ]
  },
  {
   "cell_type": "markdown",
   "metadata": {},
   "source": [
    "**11-B- Considerando a taxa geral de aprovados, quais as 5 escolas com pior performance?**"
   ]
  },
  {
   "cell_type": "code",
   "execution_count": 206,
   "metadata": {},
   "outputs": [
    {
     "data": {
      "text/html": [
       "<div>\n",
       "<style scoped>\n",
       "    .dataframe tbody tr th:only-of-type {\n",
       "        vertical-align: middle;\n",
       "    }\n",
       "\n",
       "    .dataframe tbody tr th {\n",
       "        vertical-align: top;\n",
       "    }\n",
       "\n",
       "    .dataframe thead th {\n",
       "        text-align: right;\n",
       "    }\n",
       "</style>\n",
       "<table border=\"1\" class=\"dataframe\">\n",
       "  <thead>\n",
       "    <tr style=\"text-align: right;\">\n",
       "      <th></th>\n",
       "      <th>Tipo Escola</th>\n",
       "      <th>Total Estudantes</th>\n",
       "      <th>Total Orçamento</th>\n",
       "      <th>Orçamento Por Estudante</th>\n",
       "      <th>Nota Média Aprovação Redação</th>\n",
       "      <th>Nota Média Aprovação Matemática</th>\n",
       "      <th>% Aprovados Redação</th>\n",
       "      <th>% Aprovados Matemática</th>\n",
       "      <th>% Geral Aprovados</th>\n",
       "    </tr>\n",
       "  </thead>\n",
       "  <tbody>\n",
       "    <tr>\n",
       "      <th>Escola L</th>\n",
       "      <td>Publica</td>\n",
       "      <td>3999</td>\n",
       "      <td>$2,547,363.00</td>\n",
       "      <td>$637.00</td>\n",
       "      <td>80.74</td>\n",
       "      <td>76.84</td>\n",
       "      <td>80.22</td>\n",
       "      <td>66.37</td>\n",
       "      <td>52.99</td>\n",
       "    </tr>\n",
       "    <tr>\n",
       "      <th>Escola B</th>\n",
       "      <td>Publica</td>\n",
       "      <td>2949</td>\n",
       "      <td>$1,884,411.00</td>\n",
       "      <td>$639.00</td>\n",
       "      <td>81.16</td>\n",
       "      <td>76.71</td>\n",
       "      <td>80.74</td>\n",
       "      <td>65.99</td>\n",
       "      <td>53.20</td>\n",
       "    </tr>\n",
       "    <tr>\n",
       "      <th>Escola A</th>\n",
       "      <td>Publica</td>\n",
       "      <td>2917</td>\n",
       "      <td>$1,910,635.00</td>\n",
       "      <td>$655.00</td>\n",
       "      <td>81.18</td>\n",
       "      <td>76.63</td>\n",
       "      <td>81.32</td>\n",
       "      <td>65.68</td>\n",
       "      <td>53.51</td>\n",
       "    </tr>\n",
       "    <tr>\n",
       "      <th>Escola D</th>\n",
       "      <td>Publica</td>\n",
       "      <td>4635</td>\n",
       "      <td>$3,022,020.00</td>\n",
       "      <td>$652.00</td>\n",
       "      <td>80.93</td>\n",
       "      <td>77.29</td>\n",
       "      <td>80.86</td>\n",
       "      <td>66.75</td>\n",
       "      <td>53.53</td>\n",
       "    </tr>\n",
       "    <tr>\n",
       "      <th>Escola M</th>\n",
       "      <td>Publica</td>\n",
       "      <td>4761</td>\n",
       "      <td>$3,094,650.00</td>\n",
       "      <td>$650.00</td>\n",
       "      <td>80.97</td>\n",
       "      <td>77.07</td>\n",
       "      <td>81.22</td>\n",
       "      <td>66.06</td>\n",
       "      <td>53.54</td>\n",
       "    </tr>\n",
       "  </tbody>\n",
       "</table>\n",
       "</div>"
      ],
      "text/plain": [
       "         Tipo Escola  Total Estudantes Total Orçamento  \\\n",
       "Escola L     Publica              3999   $2,547,363.00   \n",
       "Escola B     Publica              2949   $1,884,411.00   \n",
       "Escola A     Publica              2917   $1,910,635.00   \n",
       "Escola D     Publica              4635   $3,022,020.00   \n",
       "Escola M     Publica              4761   $3,094,650.00   \n",
       "\n",
       "         Orçamento Por Estudante Nota Média Aprovação Redação  \\\n",
       "Escola L                 $637.00                        80.74   \n",
       "Escola B                 $639.00                        81.16   \n",
       "Escola A                 $655.00                        81.18   \n",
       "Escola D                 $652.00                        80.93   \n",
       "Escola M                 $650.00                        80.97   \n",
       "\n",
       "         Nota Média Aprovação Matemática % Aprovados Redação  \\\n",
       "Escola L                           76.84               80.22   \n",
       "Escola B                           76.71               80.74   \n",
       "Escola A                           76.63               81.32   \n",
       "Escola D                           77.29               80.86   \n",
       "Escola M                           77.07               81.22   \n",
       "\n",
       "         % Aprovados Matemática % Geral Aprovados  \n",
       "Escola L                  66.37             52.99  \n",
       "Escola B                  65.99             53.20  \n",
       "Escola A                  65.68             53.51  \n",
       "Escola D                  66.75             53.53  \n",
       "Escola M                  66.06             53.54  "
      ]
     },
     "execution_count": 206,
     "metadata": {},
     "output_type": "execute_result"
    }
   ],
   "source": [
    "bottom_escolas = df_resumo_performance_escolar.sort_values([\"% Geral Aprovados\"], ascending = True)\n",
    "bottom_escolas.head(5)"
   ]
  },
  {
   "cell_type": "code",
   "execution_count": 207,
   "metadata": {},
   "outputs": [
    {
     "data": {
      "text/plain": [
       "Index(['ID_Estudante', 'Nome_Estudante', 'Genero', 'Serie', 'Nome_Escola',\n",
       "       'Nota_Redacao', 'Nota_Matematica', 'ID_Escola', 'Tipo_Escola',\n",
       "       'Numero_Alunos', 'Orcamento_Anual'],\n",
       "      dtype='object')"
      ]
     },
     "execution_count": 207,
     "metadata": {},
     "output_type": "execute_result"
    }
   ],
   "source": [
    "dados_full.columns"
   ]
  },
  {
   "cell_type": "markdown",
   "metadata": {
    "collapsed": true
   },
   "source": [
    "**12- Em cada série, qual escola teve os alunos com melhor performance em Matemática?**"
   ]
  },
  {
   "cell_type": "code",
   "execution_count": 208,
   "metadata": {},
   "outputs": [],
   "source": [
    "sexta_serie = dados_full[(dados_full[\"Serie\"] == 6)]\n",
    "setima_serie = dados_full[(dados_full[\"Serie\"] == 7)]\n",
    "oitava_serie = dados_full[(dados_full[\"Serie\"] == 8)]\n",
    "nona_serie = dados_full[(dados_full[\"Serie\"] == 9)]"
   ]
  },
  {
   "cell_type": "code",
   "execution_count": 209,
   "metadata": {},
   "outputs": [
    {
     "data": {
      "text/html": [
       "<div>\n",
       "<style scoped>\n",
       "    .dataframe tbody tr th:only-of-type {\n",
       "        vertical-align: middle;\n",
       "    }\n",
       "\n",
       "    .dataframe tbody tr th {\n",
       "        vertical-align: top;\n",
       "    }\n",
       "\n",
       "    .dataframe thead th {\n",
       "        text-align: right;\n",
       "    }\n",
       "</style>\n",
       "<table border=\"1\" class=\"dataframe\">\n",
       "  <thead>\n",
       "    <tr style=\"text-align: right;\">\n",
       "      <th></th>\n",
       "      <th>ID_Estudante</th>\n",
       "      <th>Nome_Estudante</th>\n",
       "      <th>Genero</th>\n",
       "      <th>Serie</th>\n",
       "      <th>Nome_Escola</th>\n",
       "      <th>Nota_Redacao</th>\n",
       "      <th>Nota_Matematica</th>\n",
       "      <th>ID_Escola</th>\n",
       "      <th>Tipo_Escola</th>\n",
       "      <th>Numero_Alunos</th>\n",
       "      <th>Orcamento_Anual</th>\n",
       "    </tr>\n",
       "  </thead>\n",
       "  <tbody>\n",
       "    <tr>\n",
       "      <th>0</th>\n",
       "      <td>0</td>\n",
       "      <td>Kevin Bradley</td>\n",
       "      <td>M</td>\n",
       "      <td>6</td>\n",
       "      <td>Escola A</td>\n",
       "      <td>66</td>\n",
       "      <td>79</td>\n",
       "      <td>0</td>\n",
       "      <td>Publica</td>\n",
       "      <td>2917</td>\n",
       "      <td>1910635</td>\n",
       "    </tr>\n",
       "    <tr>\n",
       "      <th>4</th>\n",
       "      <td>4</td>\n",
       "      <td>William Ray</td>\n",
       "      <td>F</td>\n",
       "      <td>6</td>\n",
       "      <td>Escola A</td>\n",
       "      <td>97</td>\n",
       "      <td>84</td>\n",
       "      <td>0</td>\n",
       "      <td>Publica</td>\n",
       "      <td>2917</td>\n",
       "      <td>1910635</td>\n",
       "    </tr>\n",
       "    <tr>\n",
       "      <th>5</th>\n",
       "      <td>5</td>\n",
       "      <td>James Miranda</td>\n",
       "      <td>M</td>\n",
       "      <td>6</td>\n",
       "      <td>Escola A</td>\n",
       "      <td>94</td>\n",
       "      <td>94</td>\n",
       "      <td>0</td>\n",
       "      <td>Publica</td>\n",
       "      <td>2917</td>\n",
       "      <td>1910635</td>\n",
       "    </tr>\n",
       "    <tr>\n",
       "      <th>12</th>\n",
       "      <td>12</td>\n",
       "      <td>Sebastian Walker</td>\n",
       "      <td>F</td>\n",
       "      <td>6</td>\n",
       "      <td>Escola A</td>\n",
       "      <td>64</td>\n",
       "      <td>79</td>\n",
       "      <td>0</td>\n",
       "      <td>Publica</td>\n",
       "      <td>2917</td>\n",
       "      <td>1910635</td>\n",
       "    </tr>\n",
       "    <tr>\n",
       "      <th>13</th>\n",
       "      <td>13</td>\n",
       "      <td>Mateo Long</td>\n",
       "      <td>M</td>\n",
       "      <td>6</td>\n",
       "      <td>Escola A</td>\n",
       "      <td>71</td>\n",
       "      <td>79</td>\n",
       "      <td>0</td>\n",
       "      <td>Publica</td>\n",
       "      <td>2917</td>\n",
       "      <td>1910635</td>\n",
       "    </tr>\n",
       "  </tbody>\n",
       "</table>\n",
       "</div>"
      ],
      "text/plain": [
       "    ID_Estudante    Nome_Estudante Genero  Serie Nome_Escola  Nota_Redacao  \\\n",
       "0              0     Kevin Bradley      M      6    Escola A            66   \n",
       "4              4       William Ray      F      6    Escola A            97   \n",
       "5              5     James Miranda      M      6    Escola A            94   \n",
       "12            12  Sebastian Walker      F      6    Escola A            64   \n",
       "13            13        Mateo Long      M      6    Escola A            71   \n",
       "\n",
       "    Nota_Matematica  ID_Escola Tipo_Escola  Numero_Alunos  Orcamento_Anual  \n",
       "0                79          0     Publica           2917          1910635  \n",
       "4                84          0     Publica           2917          1910635  \n",
       "5                94          0     Publica           2917          1910635  \n",
       "12               79          0     Publica           2917          1910635  \n",
       "13               79          0     Publica           2917          1910635  "
      ]
     },
     "execution_count": 209,
     "metadata": {},
     "output_type": "execute_result"
    }
   ],
   "source": [
    "sexta_serie.head()"
   ]
  },
  {
   "cell_type": "code",
   "execution_count": 210,
   "metadata": {},
   "outputs": [],
   "source": [
    "notas_sexta_serie = sexta_serie.groupby([\"Nome_Escola\"]).mean()[\"Nota_Matematica\"]\n",
    "notas_setima_serie = setima_serie.groupby([\"Nome_Escola\"]).mean()[\"Nota_Matematica\"]\n",
    "notas_oitava_serie = oitava_serie.groupby([\"Nome_Escola\"]).mean()[\"Nota_Matematica\"]\n",
    "notas_nona_serie = nona_serie.groupby([\"Nome_Escola\"]).mean()[\"Nota_Matematica\"]"
   ]
  },
  {
   "cell_type": "code",
   "execution_count": 211,
   "metadata": {},
   "outputs": [],
   "source": [
    "notas_por_serie = pd.DataFrame({\"Sexta Série\": notas_sexta_serie, \n",
    "                                \"Sétima Série\": notas_setima_serie,\n",
    "                                \"Oitava Série\": notas_oitava_serie, \n",
    "                                \"Nona Série\": notas_nona_serie})"
   ]
  },
  {
   "cell_type": "code",
   "execution_count": 212,
   "metadata": {},
   "outputs": [
    {
     "data": {
      "text/html": [
       "<div>\n",
       "<style scoped>\n",
       "    .dataframe tbody tr th:only-of-type {\n",
       "        vertical-align: middle;\n",
       "    }\n",
       "\n",
       "    .dataframe tbody tr th {\n",
       "        vertical-align: top;\n",
       "    }\n",
       "\n",
       "    .dataframe thead th {\n",
       "        text-align: right;\n",
       "    }\n",
       "</style>\n",
       "<table border=\"1\" class=\"dataframe\">\n",
       "  <thead>\n",
       "    <tr style=\"text-align: right;\">\n",
       "      <th></th>\n",
       "      <th>Sexta Série</th>\n",
       "      <th>Sétima Série</th>\n",
       "      <th>Oitava Série</th>\n",
       "      <th>Nona Série</th>\n",
       "    </tr>\n",
       "    <tr>\n",
       "      <th>Nome_Escola</th>\n",
       "      <th></th>\n",
       "      <th></th>\n",
       "      <th></th>\n",
       "      <th></th>\n",
       "    </tr>\n",
       "  </thead>\n",
       "  <tbody>\n",
       "    <tr>\n",
       "      <th>Escola A</th>\n",
       "      <td>77.027251</td>\n",
       "      <td>75.908735</td>\n",
       "      <td>76.446602</td>\n",
       "      <td>77.225641</td>\n",
       "    </tr>\n",
       "    <tr>\n",
       "      <th>Escola B</th>\n",
       "      <td>76.403037</td>\n",
       "      <td>76.539974</td>\n",
       "      <td>76.884344</td>\n",
       "      <td>77.151369</td>\n",
       "    </tr>\n",
       "    <tr>\n",
       "      <th>Escola C</th>\n",
       "      <td>83.420755</td>\n",
       "      <td>82.917411</td>\n",
       "      <td>83.383495</td>\n",
       "      <td>83.778976</td>\n",
       "    </tr>\n",
       "    <tr>\n",
       "      <th>Escola D</th>\n",
       "      <td>77.438495</td>\n",
       "      <td>77.337408</td>\n",
       "      <td>77.136029</td>\n",
       "      <td>77.186567</td>\n",
       "    </tr>\n",
       "    <tr>\n",
       "      <th>Escola E</th>\n",
       "      <td>82.044010</td>\n",
       "      <td>84.229064</td>\n",
       "      <td>83.842105</td>\n",
       "      <td>83.356164</td>\n",
       "    </tr>\n",
       "    <tr>\n",
       "      <th>Escola F</th>\n",
       "      <td>83.085578</td>\n",
       "      <td>83.724422</td>\n",
       "      <td>83.195326</td>\n",
       "      <td>83.035794</td>\n",
       "    </tr>\n",
       "    <tr>\n",
       "      <th>Escola G</th>\n",
       "      <td>83.094697</td>\n",
       "      <td>83.154506</td>\n",
       "      <td>82.765560</td>\n",
       "      <td>83.277487</td>\n",
       "    </tr>\n",
       "    <tr>\n",
       "      <th>Escola H</th>\n",
       "      <td>77.083676</td>\n",
       "      <td>76.996772</td>\n",
       "      <td>77.515588</td>\n",
       "      <td>76.492218</td>\n",
       "    </tr>\n",
       "    <tr>\n",
       "      <th>Escola I</th>\n",
       "      <td>83.787402</td>\n",
       "      <td>83.429825</td>\n",
       "      <td>85.000000</td>\n",
       "      <td>82.855422</td>\n",
       "    </tr>\n",
       "    <tr>\n",
       "      <th>Escola J</th>\n",
       "      <td>83.625455</td>\n",
       "      <td>83.372000</td>\n",
       "      <td>84.328125</td>\n",
       "      <td>84.121547</td>\n",
       "    </tr>\n",
       "    <tr>\n",
       "      <th>Escola K</th>\n",
       "      <td>83.264706</td>\n",
       "      <td>84.010288</td>\n",
       "      <td>83.836782</td>\n",
       "      <td>83.644986</td>\n",
       "    </tr>\n",
       "    <tr>\n",
       "      <th>Escola L</th>\n",
       "      <td>76.859966</td>\n",
       "      <td>76.612500</td>\n",
       "      <td>76.395626</td>\n",
       "      <td>77.690748</td>\n",
       "    </tr>\n",
       "    <tr>\n",
       "      <th>Escola M</th>\n",
       "      <td>77.187857</td>\n",
       "      <td>76.691117</td>\n",
       "      <td>77.491653</td>\n",
       "      <td>76.863248</td>\n",
       "    </tr>\n",
       "    <tr>\n",
       "      <th>Escola N</th>\n",
       "      <td>77.361345</td>\n",
       "      <td>77.672316</td>\n",
       "      <td>76.918058</td>\n",
       "      <td>76.179963</td>\n",
       "    </tr>\n",
       "    <tr>\n",
       "      <th>Escola O</th>\n",
       "      <td>83.605664</td>\n",
       "      <td>83.100478</td>\n",
       "      <td>83.533981</td>\n",
       "      <td>83.497024</td>\n",
       "    </tr>\n",
       "  </tbody>\n",
       "</table>\n",
       "</div>"
      ],
      "text/plain": [
       "             Sexta Série  Sétima Série  Oitava Série  Nona Série\n",
       "Nome_Escola                                                     \n",
       "Escola A       77.027251     75.908735     76.446602   77.225641\n",
       "Escola B       76.403037     76.539974     76.884344   77.151369\n",
       "Escola C       83.420755     82.917411     83.383495   83.778976\n",
       "Escola D       77.438495     77.337408     77.136029   77.186567\n",
       "Escola E       82.044010     84.229064     83.842105   83.356164\n",
       "Escola F       83.085578     83.724422     83.195326   83.035794\n",
       "Escola G       83.094697     83.154506     82.765560   83.277487\n",
       "Escola H       77.083676     76.996772     77.515588   76.492218\n",
       "Escola I       83.787402     83.429825     85.000000   82.855422\n",
       "Escola J       83.625455     83.372000     84.328125   84.121547\n",
       "Escola K       83.264706     84.010288     83.836782   83.644986\n",
       "Escola L       76.859966     76.612500     76.395626   77.690748\n",
       "Escola M       77.187857     76.691117     77.491653   76.863248\n",
       "Escola N       77.361345     77.672316     76.918058   76.179963\n",
       "Escola O       83.605664     83.100478     83.533981   83.497024"
      ]
     },
     "execution_count": 212,
     "metadata": {},
     "output_type": "execute_result"
    }
   ],
   "source": [
    "notas_por_serie.sort_values(by = \"Nome_Escola\")"
   ]
  },
  {
   "cell_type": "code",
   "execution_count": 213,
   "metadata": {},
   "outputs": [
    {
     "data": {
      "text/plain": [
       "'Escola I'"
      ]
     },
     "execution_count": 213,
     "metadata": {},
     "output_type": "execute_result"
    }
   ],
   "source": [
    "notas_por_serie[\"Sexta Série\"].idxmax()"
   ]
  },
  {
   "cell_type": "code",
   "execution_count": 214,
   "metadata": {},
   "outputs": [
    {
     "data": {
      "text/plain": [
       "'Escola E'"
      ]
     },
     "execution_count": 214,
     "metadata": {},
     "output_type": "execute_result"
    }
   ],
   "source": [
    "notas_por_serie[\"Sétima Série\"].idxmax()"
   ]
  },
  {
   "cell_type": "code",
   "execution_count": 215,
   "metadata": {},
   "outputs": [
    {
     "data": {
      "text/plain": [
       "'Escola I'"
      ]
     },
     "execution_count": 215,
     "metadata": {},
     "output_type": "execute_result"
    }
   ],
   "source": [
    "notas_por_serie[\"Oitava Série\"].idxmax()"
   ]
  },
  {
   "cell_type": "code",
   "execution_count": 216,
   "metadata": {},
   "outputs": [
    {
     "data": {
      "text/plain": [
       "'Escola J'"
      ]
     },
     "execution_count": 216,
     "metadata": {},
     "output_type": "execute_result"
    }
   ],
   "source": [
    "notas_por_serie[\"Nona Série\"].idxmax()"
   ]
  },
  {
   "cell_type": "markdown",
   "metadata": {},
   "source": [
    "**13- Considerando as faixas de gastos por estudante como sendo: [0, 585, 630, 645, 680], qual faixa resulta em estudantes com melhor performance?**"
   ]
  },
  {
   "cell_type": "code",
   "execution_count": 217,
   "metadata": {},
   "outputs": [
    {
     "data": {
      "text/plain": [
       "Index(['Tipo Escola', 'Total Estudantes', 'Total Orçamento',\n",
       "       'Orçamento Por Estudante', 'Nota Média Aprovação Redação',\n",
       "       'Nota Média Aprovação Matemática', '% Aprovados Redação',\n",
       "       '% Aprovados Matemática', '% Geral Aprovados'],\n",
       "      dtype='object')"
      ]
     },
     "execution_count": 217,
     "metadata": {},
     "output_type": "execute_result"
    }
   ],
   "source": [
    "df_resumo_performance_escolar.columns"
   ]
  },
  {
   "cell_type": "code",
   "execution_count": 218,
   "metadata": {},
   "outputs": [],
   "source": [
    "faixas_bins = [0, 585, 630, 645, 680]\n",
    "labels_faixas = [\"<$585\", \"$585-630\", \"$630-645\", \"$645-680\"]"
   ]
  },
  {
   "cell_type": "code",
   "execution_count": 219,
   "metadata": {},
   "outputs": [],
   "source": [
    "df_resumo_performance_escolar[\"Faixa de Gastos Por Estudante\"] = pd.cut(orc_escola_percapita, \n",
    "                                                                        faixas_bins, \n",
    "                                                                        labels = labels_faixas, \n",
    "                                                                        right = False)"
   ]
  },
  {
   "cell_type": "code",
   "execution_count": 220,
   "metadata": {},
   "outputs": [
    {
     "data": {
      "text/html": [
       "<div>\n",
       "<style scoped>\n",
       "    .dataframe tbody tr th:only-of-type {\n",
       "        vertical-align: middle;\n",
       "    }\n",
       "\n",
       "    .dataframe tbody tr th {\n",
       "        vertical-align: top;\n",
       "    }\n",
       "\n",
       "    .dataframe thead th {\n",
       "        text-align: right;\n",
       "    }\n",
       "</style>\n",
       "<table border=\"1\" class=\"dataframe\">\n",
       "  <thead>\n",
       "    <tr style=\"text-align: right;\">\n",
       "      <th></th>\n",
       "      <th>Tipo Escola</th>\n",
       "      <th>Total Estudantes</th>\n",
       "      <th>Total Orçamento</th>\n",
       "      <th>Orçamento Por Estudante</th>\n",
       "      <th>Nota Média Aprovação Redação</th>\n",
       "      <th>Nota Média Aprovação Matemática</th>\n",
       "      <th>% Aprovados Redação</th>\n",
       "      <th>% Aprovados Matemática</th>\n",
       "      <th>% Geral Aprovados</th>\n",
       "      <th>Faixa de Gastos Por Estudante</th>\n",
       "    </tr>\n",
       "  </thead>\n",
       "  <tbody>\n",
       "    <tr>\n",
       "      <th>Escola A</th>\n",
       "      <td>Publica</td>\n",
       "      <td>2917</td>\n",
       "      <td>$1,910,635.00</td>\n",
       "      <td>$655.00</td>\n",
       "      <td>81.18</td>\n",
       "      <td>76.63</td>\n",
       "      <td>81.32</td>\n",
       "      <td>65.68</td>\n",
       "      <td>53.51</td>\n",
       "      <td>$645-680</td>\n",
       "    </tr>\n",
       "    <tr>\n",
       "      <th>Escola B</th>\n",
       "      <td>Publica</td>\n",
       "      <td>2949</td>\n",
       "      <td>$1,884,411.00</td>\n",
       "      <td>$639.00</td>\n",
       "      <td>81.16</td>\n",
       "      <td>76.71</td>\n",
       "      <td>80.74</td>\n",
       "      <td>65.99</td>\n",
       "      <td>53.20</td>\n",
       "      <td>$630-645</td>\n",
       "    </tr>\n",
       "    <tr>\n",
       "      <th>Escola C</th>\n",
       "      <td>Particular</td>\n",
       "      <td>1761</td>\n",
       "      <td>$1,056,600.00</td>\n",
       "      <td>$600.00</td>\n",
       "      <td>83.73</td>\n",
       "      <td>83.36</td>\n",
       "      <td>95.85</td>\n",
       "      <td>93.87</td>\n",
       "      <td>89.89</td>\n",
       "      <td>$585-630</td>\n",
       "    </tr>\n",
       "    <tr>\n",
       "      <th>Escola D</th>\n",
       "      <td>Publica</td>\n",
       "      <td>4635</td>\n",
       "      <td>$3,022,020.00</td>\n",
       "      <td>$652.00</td>\n",
       "      <td>80.93</td>\n",
       "      <td>77.29</td>\n",
       "      <td>80.86</td>\n",
       "      <td>66.75</td>\n",
       "      <td>53.53</td>\n",
       "      <td>$645-680</td>\n",
       "    </tr>\n",
       "    <tr>\n",
       "      <th>Escola E</th>\n",
       "      <td>Particular</td>\n",
       "      <td>1468</td>\n",
       "      <td>$917,500.00</td>\n",
       "      <td>$625.00</td>\n",
       "      <td>83.82</td>\n",
       "      <td>83.35</td>\n",
       "      <td>97.14</td>\n",
       "      <td>93.39</td>\n",
       "      <td>90.60</td>\n",
       "      <td>$585-630</td>\n",
       "    </tr>\n",
       "    <tr>\n",
       "      <th>Escola F</th>\n",
       "      <td>Particular</td>\n",
       "      <td>2283</td>\n",
       "      <td>$1,319,574.00</td>\n",
       "      <td>$578.00</td>\n",
       "      <td>83.99</td>\n",
       "      <td>83.27</td>\n",
       "      <td>96.54</td>\n",
       "      <td>93.87</td>\n",
       "      <td>90.58</td>\n",
       "      <td>&lt;$585</td>\n",
       "    </tr>\n",
       "    <tr>\n",
       "      <th>Escola G</th>\n",
       "      <td>Particular</td>\n",
       "      <td>1858</td>\n",
       "      <td>$1,081,356.00</td>\n",
       "      <td>$582.00</td>\n",
       "      <td>83.98</td>\n",
       "      <td>83.06</td>\n",
       "      <td>97.04</td>\n",
       "      <td>94.13</td>\n",
       "      <td>91.33</td>\n",
       "      <td>&lt;$585</td>\n",
       "    </tr>\n",
       "    <tr>\n",
       "      <th>Escola H</th>\n",
       "      <td>Publica</td>\n",
       "      <td>4976</td>\n",
       "      <td>$3,124,928.00</td>\n",
       "      <td>$628.00</td>\n",
       "      <td>81.03</td>\n",
       "      <td>77.05</td>\n",
       "      <td>81.93</td>\n",
       "      <td>66.68</td>\n",
       "      <td>54.64</td>\n",
       "      <td>$585-630</td>\n",
       "    </tr>\n",
       "    <tr>\n",
       "      <th>Escola I</th>\n",
       "      <td>Particular</td>\n",
       "      <td>427</td>\n",
       "      <td>$248,087.00</td>\n",
       "      <td>$581.00</td>\n",
       "      <td>83.81</td>\n",
       "      <td>83.80</td>\n",
       "      <td>96.25</td>\n",
       "      <td>92.51</td>\n",
       "      <td>89.23</td>\n",
       "      <td>&lt;$585</td>\n",
       "    </tr>\n",
       "    <tr>\n",
       "      <th>Escola J</th>\n",
       "      <td>Particular</td>\n",
       "      <td>962</td>\n",
       "      <td>$585,858.00</td>\n",
       "      <td>$609.00</td>\n",
       "      <td>84.04</td>\n",
       "      <td>83.84</td>\n",
       "      <td>95.95</td>\n",
       "      <td>94.59</td>\n",
       "      <td>90.54</td>\n",
       "      <td>$585-630</td>\n",
       "    </tr>\n",
       "    <tr>\n",
       "      <th>Escola K</th>\n",
       "      <td>Particular</td>\n",
       "      <td>1800</td>\n",
       "      <td>$1,049,400.00</td>\n",
       "      <td>$583.00</td>\n",
       "      <td>83.95</td>\n",
       "      <td>83.68</td>\n",
       "      <td>96.61</td>\n",
       "      <td>93.33</td>\n",
       "      <td>90.33</td>\n",
       "      <td>&lt;$585</td>\n",
       "    </tr>\n",
       "    <tr>\n",
       "      <th>Escola L</th>\n",
       "      <td>Publica</td>\n",
       "      <td>3999</td>\n",
       "      <td>$2,547,363.00</td>\n",
       "      <td>$637.00</td>\n",
       "      <td>80.74</td>\n",
       "      <td>76.84</td>\n",
       "      <td>80.22</td>\n",
       "      <td>66.37</td>\n",
       "      <td>52.99</td>\n",
       "      <td>$630-645</td>\n",
       "    </tr>\n",
       "    <tr>\n",
       "      <th>Escola M</th>\n",
       "      <td>Publica</td>\n",
       "      <td>4761</td>\n",
       "      <td>$3,094,650.00</td>\n",
       "      <td>$650.00</td>\n",
       "      <td>80.97</td>\n",
       "      <td>77.07</td>\n",
       "      <td>81.22</td>\n",
       "      <td>66.06</td>\n",
       "      <td>53.54</td>\n",
       "      <td>$645-680</td>\n",
       "    </tr>\n",
       "    <tr>\n",
       "      <th>Escola N</th>\n",
       "      <td>Publica</td>\n",
       "      <td>2739</td>\n",
       "      <td>$1,763,916.00</td>\n",
       "      <td>$644.00</td>\n",
       "      <td>80.75</td>\n",
       "      <td>77.10</td>\n",
       "      <td>79.30</td>\n",
       "      <td>68.31</td>\n",
       "      <td>54.29</td>\n",
       "      <td>$630-645</td>\n",
       "    </tr>\n",
       "    <tr>\n",
       "      <th>Escola O</th>\n",
       "      <td>Particular</td>\n",
       "      <td>1625</td>\n",
       "      <td>$1,043,130.00</td>\n",
       "      <td>$641.93</td>\n",
       "      <td>83.81</td>\n",
       "      <td>83.44</td>\n",
       "      <td>97.29</td>\n",
       "      <td>93.23</td>\n",
       "      <td>90.89</td>\n",
       "      <td>$630-645</td>\n",
       "    </tr>\n",
       "  </tbody>\n",
       "</table>\n",
       "</div>"
      ],
      "text/plain": [
       "         Tipo Escola  Total Estudantes Total Orçamento  \\\n",
       "Escola A     Publica              2917   $1,910,635.00   \n",
       "Escola B     Publica              2949   $1,884,411.00   \n",
       "Escola C  Particular              1761   $1,056,600.00   \n",
       "Escola D     Publica              4635   $3,022,020.00   \n",
       "Escola E  Particular              1468     $917,500.00   \n",
       "Escola F  Particular              2283   $1,319,574.00   \n",
       "Escola G  Particular              1858   $1,081,356.00   \n",
       "Escola H     Publica              4976   $3,124,928.00   \n",
       "Escola I  Particular               427     $248,087.00   \n",
       "Escola J  Particular               962     $585,858.00   \n",
       "Escola K  Particular              1800   $1,049,400.00   \n",
       "Escola L     Publica              3999   $2,547,363.00   \n",
       "Escola M     Publica              4761   $3,094,650.00   \n",
       "Escola N     Publica              2739   $1,763,916.00   \n",
       "Escola O  Particular              1625   $1,043,130.00   \n",
       "\n",
       "         Orçamento Por Estudante Nota Média Aprovação Redação  \\\n",
       "Escola A                 $655.00                        81.18   \n",
       "Escola B                 $639.00                        81.16   \n",
       "Escola C                 $600.00                        83.73   \n",
       "Escola D                 $652.00                        80.93   \n",
       "Escola E                 $625.00                        83.82   \n",
       "Escola F                 $578.00                        83.99   \n",
       "Escola G                 $582.00                        83.98   \n",
       "Escola H                 $628.00                        81.03   \n",
       "Escola I                 $581.00                        83.81   \n",
       "Escola J                 $609.00                        84.04   \n",
       "Escola K                 $583.00                        83.95   \n",
       "Escola L                 $637.00                        80.74   \n",
       "Escola M                 $650.00                        80.97   \n",
       "Escola N                 $644.00                        80.75   \n",
       "Escola O                 $641.93                        83.81   \n",
       "\n",
       "         Nota Média Aprovação Matemática % Aprovados Redação  \\\n",
       "Escola A                           76.63               81.32   \n",
       "Escola B                           76.71               80.74   \n",
       "Escola C                           83.36               95.85   \n",
       "Escola D                           77.29               80.86   \n",
       "Escola E                           83.35               97.14   \n",
       "Escola F                           83.27               96.54   \n",
       "Escola G                           83.06               97.04   \n",
       "Escola H                           77.05               81.93   \n",
       "Escola I                           83.80               96.25   \n",
       "Escola J                           83.84               95.95   \n",
       "Escola K                           83.68               96.61   \n",
       "Escola L                           76.84               80.22   \n",
       "Escola M                           77.07               81.22   \n",
       "Escola N                           77.10               79.30   \n",
       "Escola O                           83.44               97.29   \n",
       "\n",
       "         % Aprovados Matemática % Geral Aprovados  \\\n",
       "Escola A                  65.68             53.51   \n",
       "Escola B                  65.99             53.20   \n",
       "Escola C                  93.87             89.89   \n",
       "Escola D                  66.75             53.53   \n",
       "Escola E                  93.39             90.60   \n",
       "Escola F                  93.87             90.58   \n",
       "Escola G                  94.13             91.33   \n",
       "Escola H                  66.68             54.64   \n",
       "Escola I                  92.51             89.23   \n",
       "Escola J                  94.59             90.54   \n",
       "Escola K                  93.33             90.33   \n",
       "Escola L                  66.37             52.99   \n",
       "Escola M                  66.06             53.54   \n",
       "Escola N                  68.31             54.29   \n",
       "Escola O                  93.23             90.89   \n",
       "\n",
       "         Faixa de Gastos Por Estudante  \n",
       "Escola A                      $645-680  \n",
       "Escola B                      $630-645  \n",
       "Escola C                      $585-630  \n",
       "Escola D                      $645-680  \n",
       "Escola E                      $585-630  \n",
       "Escola F                         <$585  \n",
       "Escola G                         <$585  \n",
       "Escola H                      $585-630  \n",
       "Escola I                         <$585  \n",
       "Escola J                      $585-630  \n",
       "Escola K                         <$585  \n",
       "Escola L                      $630-645  \n",
       "Escola M                      $645-680  \n",
       "Escola N                      $630-645  \n",
       "Escola O                      $630-645  "
      ]
     },
     "execution_count": 220,
     "metadata": {},
     "output_type": "execute_result"
    }
   ],
   "source": [
    "df_resumo_performance_escolar"
   ]
  },
  {
   "cell_type": "code",
   "execution_count": 221,
   "metadata": {},
   "outputs": [
    {
     "data": {
      "text/plain": [
       "Index(['Tipo Escola', 'Total Estudantes', 'Total Orçamento',\n",
       "       'Orçamento Por Estudante', 'Nota Média Aprovação Redação',\n",
       "       'Nota Média Aprovação Matemática', '% Aprovados Redação',\n",
       "       '% Aprovados Matemática', '% Geral Aprovados',\n",
       "       'Faixa de Gastos Por Estudante'],\n",
       "      dtype='object')"
      ]
     },
     "execution_count": 221,
     "metadata": {},
     "output_type": "execute_result"
    }
   ],
   "source": [
    "df_resumo_performance_escolar.columns"
   ]
  },
  {
   "cell_type": "code",
   "execution_count": 222,
   "metadata": {},
   "outputs": [
    {
     "ename": "KeyError",
     "evalue": "'Nota Média Aprovação Redação'",
     "output_type": "error",
     "traceback": [
      "\u001b[0;31m---------------------------------------------------------------------------\u001b[0m",
      "\u001b[0;31mKeyError\u001b[0m                                  Traceback (most recent call last)",
      "File \u001b[0;32m/opt/homebrew/anaconda3/lib/python3.9/site-packages/pandas/core/indexes/base.py:3621\u001b[0m, in \u001b[0;36mIndex.get_loc\u001b[0;34m(self, key, method, tolerance)\u001b[0m\n\u001b[1;32m   3620\u001b[0m \u001b[38;5;28;01mtry\u001b[39;00m:\n\u001b[0;32m-> 3621\u001b[0m     \u001b[38;5;28;01mreturn\u001b[39;00m \u001b[38;5;28;43mself\u001b[39;49m\u001b[38;5;241;43m.\u001b[39;49m\u001b[43m_engine\u001b[49m\u001b[38;5;241;43m.\u001b[39;49m\u001b[43mget_loc\u001b[49m\u001b[43m(\u001b[49m\u001b[43mcasted_key\u001b[49m\u001b[43m)\u001b[49m\n\u001b[1;32m   3622\u001b[0m \u001b[38;5;28;01mexcept\u001b[39;00m \u001b[38;5;167;01mKeyError\u001b[39;00m \u001b[38;5;28;01mas\u001b[39;00m err:\n",
      "File \u001b[0;32m/opt/homebrew/anaconda3/lib/python3.9/site-packages/pandas/_libs/index.pyx:136\u001b[0m, in \u001b[0;36mpandas._libs.index.IndexEngine.get_loc\u001b[0;34m()\u001b[0m\n",
      "File \u001b[0;32m/opt/homebrew/anaconda3/lib/python3.9/site-packages/pandas/_libs/index.pyx:163\u001b[0m, in \u001b[0;36mpandas._libs.index.IndexEngine.get_loc\u001b[0;34m()\u001b[0m\n",
      "File \u001b[0;32mpandas/_libs/hashtable_class_helper.pxi:5198\u001b[0m, in \u001b[0;36mpandas._libs.hashtable.PyObjectHashTable.get_item\u001b[0;34m()\u001b[0m\n",
      "File \u001b[0;32mpandas/_libs/hashtable_class_helper.pxi:5206\u001b[0m, in \u001b[0;36mpandas._libs.hashtable.PyObjectHashTable.get_item\u001b[0;34m()\u001b[0m\n",
      "\u001b[0;31mKeyError\u001b[0m: 'Nota Média Aprovação Redação'",
      "\nThe above exception was the direct cause of the following exception:\n",
      "\u001b[0;31mKeyError\u001b[0m                                  Traceback (most recent call last)",
      "Input \u001b[0;32mIn [222]\u001b[0m, in \u001b[0;36m<cell line: 1>\u001b[0;34m()\u001b[0m\n\u001b[0;32m----> 1\u001b[0m df_13_1 \u001b[38;5;241m=\u001b[39m \u001b[43mdf_resumo_performance_escolar\u001b[49m\u001b[38;5;241;43m.\u001b[39;49m\u001b[43mgroupby\u001b[49m\u001b[43m(\u001b[49m\u001b[43m[\u001b[49m\u001b[38;5;124;43m\"\u001b[39;49m\u001b[38;5;124;43mFaixa de Gastos Por Estudante\u001b[39;49m\u001b[38;5;124;43m\"\u001b[39;49m\u001b[43m]\u001b[49m\u001b[43m)\u001b[49m\u001b[38;5;241;43m.\u001b[39;49m\u001b[43mmean\u001b[49m\u001b[43m(\u001b[49m\u001b[43m)\u001b[49m\u001b[43m[\u001b[49m\u001b[38;5;124;43m\"\u001b[39;49m\u001b[38;5;124;43mNota Média Aprovação Redação\u001b[39;49m\u001b[38;5;124;43m\"\u001b[39;49m\u001b[43m]\u001b[49m\n\u001b[1;32m      2\u001b[0m df_13_2 \u001b[38;5;241m=\u001b[39m df_resumo_performance_escolar\u001b[38;5;241m.\u001b[39mgroupby([\u001b[38;5;124m\"\u001b[39m\u001b[38;5;124mFaixa de Gastos Por Estudante\u001b[39m\u001b[38;5;124m\"\u001b[39m])\u001b[38;5;241m.\u001b[39mmean()[\u001b[38;5;124m\"\u001b[39m\u001b[38;5;124mNota Média Aprovação Matemática\u001b[39m\u001b[38;5;124m\"\u001b[39m]\n\u001b[1;32m      3\u001b[0m df_13_3 \u001b[38;5;241m=\u001b[39m df_resumo_performance_escolar\u001b[38;5;241m.\u001b[39mgroupby([\u001b[38;5;124m\"\u001b[39m\u001b[38;5;124mFaixa de Gastos Por Estudante\u001b[39m\u001b[38;5;124m\"\u001b[39m])\u001b[38;5;241m.\u001b[39mmean()[\u001b[38;5;124m\"\u001b[39m\u001b[38;5;124m%\u001b[39m\u001b[38;5;124m Aprovados Redação\u001b[39m\u001b[38;5;124m\"\u001b[39m]\n",
      "File \u001b[0;32m/opt/homebrew/anaconda3/lib/python3.9/site-packages/pandas/core/frame.py:3505\u001b[0m, in \u001b[0;36mDataFrame.__getitem__\u001b[0;34m(self, key)\u001b[0m\n\u001b[1;32m   3503\u001b[0m \u001b[38;5;28;01mif\u001b[39;00m \u001b[38;5;28mself\u001b[39m\u001b[38;5;241m.\u001b[39mcolumns\u001b[38;5;241m.\u001b[39mnlevels \u001b[38;5;241m>\u001b[39m \u001b[38;5;241m1\u001b[39m:\n\u001b[1;32m   3504\u001b[0m     \u001b[38;5;28;01mreturn\u001b[39;00m \u001b[38;5;28mself\u001b[39m\u001b[38;5;241m.\u001b[39m_getitem_multilevel(key)\n\u001b[0;32m-> 3505\u001b[0m indexer \u001b[38;5;241m=\u001b[39m \u001b[38;5;28;43mself\u001b[39;49m\u001b[38;5;241;43m.\u001b[39;49m\u001b[43mcolumns\u001b[49m\u001b[38;5;241;43m.\u001b[39;49m\u001b[43mget_loc\u001b[49m\u001b[43m(\u001b[49m\u001b[43mkey\u001b[49m\u001b[43m)\u001b[49m\n\u001b[1;32m   3506\u001b[0m \u001b[38;5;28;01mif\u001b[39;00m is_integer(indexer):\n\u001b[1;32m   3507\u001b[0m     indexer \u001b[38;5;241m=\u001b[39m [indexer]\n",
      "File \u001b[0;32m/opt/homebrew/anaconda3/lib/python3.9/site-packages/pandas/core/indexes/base.py:3623\u001b[0m, in \u001b[0;36mIndex.get_loc\u001b[0;34m(self, key, method, tolerance)\u001b[0m\n\u001b[1;32m   3621\u001b[0m     \u001b[38;5;28;01mreturn\u001b[39;00m \u001b[38;5;28mself\u001b[39m\u001b[38;5;241m.\u001b[39m_engine\u001b[38;5;241m.\u001b[39mget_loc(casted_key)\n\u001b[1;32m   3622\u001b[0m \u001b[38;5;28;01mexcept\u001b[39;00m \u001b[38;5;167;01mKeyError\u001b[39;00m \u001b[38;5;28;01mas\u001b[39;00m err:\n\u001b[0;32m-> 3623\u001b[0m     \u001b[38;5;28;01mraise\u001b[39;00m \u001b[38;5;167;01mKeyError\u001b[39;00m(key) \u001b[38;5;28;01mfrom\u001b[39;00m \u001b[38;5;21;01merr\u001b[39;00m\n\u001b[1;32m   3624\u001b[0m \u001b[38;5;28;01mexcept\u001b[39;00m \u001b[38;5;167;01mTypeError\u001b[39;00m:\n\u001b[1;32m   3625\u001b[0m     \u001b[38;5;66;03m# If we have a listlike key, _check_indexing_error will raise\u001b[39;00m\n\u001b[1;32m   3626\u001b[0m     \u001b[38;5;66;03m#  InvalidIndexError. Otherwise we fall through and re-raise\u001b[39;00m\n\u001b[1;32m   3627\u001b[0m     \u001b[38;5;66;03m#  the TypeError.\u001b[39;00m\n\u001b[1;32m   3628\u001b[0m     \u001b[38;5;28mself\u001b[39m\u001b[38;5;241m.\u001b[39m_check_indexing_error(key)\n",
      "\u001b[0;31mKeyError\u001b[0m: 'Nota Média Aprovação Redação'"
     ]
    }
   ],
   "source": [
    "df_13_1 = df_resumo_performance_escolar.groupby([\"Faixa de Gastos Por Estudante\"]).mean()[\"Nota Média Aprovação Redação\"]\n",
    "df_13_2 = df_resumo_performance_escolar.groupby([\"Faixa de Gastos Por Estudante\"]).mean()[\"Nota Média Aprovação Matemática\"]\n",
    "df_13_3 = df_resumo_performance_escolar.groupby([\"Faixa de Gastos Por Estudante\"]).mean()[\"% Aprovados Redação\"]\n",
    "df_13_4 = df_resumo_performance_escolar.groupby([\"Faixa de Gastos Por Estudante\"]).mean()[\"% Aprovados Matemática\"]\n",
    "df_13_5 = df_resumo_performance_escolar.groupby([\"Faixa de Gastos Por Estudante\"]).mean()[\"% Geral Aprovados\"]"
   ]
  },
  {
   "cell_type": "code",
   "execution_count": null,
   "metadata": {},
   "outputs": [],
   "source": [
    "df_performance_gastos = pd.DataFrame({\"Média Redação\" : df_13_1.round(2),\n",
    "                                      \"Média Matemática\": df_13_2.round(2),\n",
    "                                      \"% Aprovados Redação\": df_13_3.round(2),\n",
    "                                      \"% Aprovados Matemática\": df_13_4.round(2),\n",
    "                                      \"% Geral Aprovados\": df_13_5.round(2)})"
   ]
  },
  {
   "cell_type": "code",
   "execution_count": null,
   "metadata": {},
   "outputs": [],
   "source": [
    "df_performance_gastos"
   ]
  },
  {
   "cell_type": "markdown",
   "metadata": {},
   "source": [
    "**14- Considerando as faixas de tamanho (número de alunos) das escolas como sendo: [0, 1000, 2000, 5000], qual faixa resulta em estudantes com melhor performance?**"
   ]
  },
  {
   "cell_type": "code",
   "execution_count": null,
   "metadata": {},
   "outputs": [],
   "source": [
    "df_resumo_performance_escolar.columns"
   ]
  },
  {
   "cell_type": "code",
   "execution_count": null,
   "metadata": {},
   "outputs": [],
   "source": [
    "tamanho_bins = [0, 1000, 2000, 5000]\n",
    "labels_tamanhos = [\"Pequeno Porte (<1000)\", \"Médio Porte (1000-2000)\", \"Grande Porte (2000-5000)\"]"
   ]
  },
  {
   "cell_type": "code",
   "execution_count": null,
   "metadata": {},
   "outputs": [],
   "source": [
    "df_resumo_performance_escolar[\"Tamanho Escola\"] = pd.cut(df_resumo_performance_escolar[\"Total Estudantes\"], \n",
    "                                                         tamanho_bins, \n",
    "                                                         labels = labels_tamanhos, \n",
    "                                                         right = False)"
   ]
  },
  {
   "cell_type": "code",
   "execution_count": null,
   "metadata": {},
   "outputs": [],
   "source": [
    "df_resumo_performance_escolar"
   ]
  },
  {
   "cell_type": "code",
   "execution_count": null,
   "metadata": {},
   "outputs": [],
   "source": [
    "df_14_1 = df_resumo_performance_escolar.groupby([\"Tamanho Escola\"]).mean()[\"Nota Média Aprovação Redação\"]\n",
    "df_14_2 = df_resumo_performance_escolar.groupby([\"Tamanho Escola\"]).mean()[\"Nota Média Aprovação Matemática\"]\n",
    "df_14_3 = df_resumo_performance_escolar.groupby([\"Tamanho Escola\"]).mean()[\"% Aprovados Redação\"]\n",
    "df_14_4 = df_resumo_performance_escolar.groupby([\"Tamanho Escola\"]).mean()[\"% Aprovados Matemática\"]\n",
    "df_14_5 = df_resumo_performance_escolar.groupby([\"Tamanho Escola\"]).mean()[\"% Geral Aprovados\"]"
   ]
  },
  {
   "cell_type": "code",
   "execution_count": null,
   "metadata": {},
   "outputs": [],
   "source": [
    "df_performance_tamanho = pd.DataFrame({\"Média Redação\" : df_14_1.round(2),\n",
    "                                       \"Média Matemática\": df_14_2.round(2),\n",
    "                                       \"% Aprovados Redação\": df_14_3.round(2),\n",
    "                                       \"% Aprovados Matemática\": df_14_4.round(2),\n",
    "                                       \"% Geral Aprovados\": df_14_5.round(2)})"
   ]
  },
  {
   "cell_type": "code",
   "execution_count": null,
   "metadata": {},
   "outputs": [],
   "source": [
    "df_performance_tamanho"
   ]
  },
  {
   "cell_type": "markdown",
   "metadata": {},
   "source": [
    "**15- Qual o impacto do tipo de escola na performance dos alunos?**"
   ]
  },
  {
   "cell_type": "code",
   "execution_count": null,
   "metadata": {},
   "outputs": [],
   "source": [
    "df_resumo_performance_escolar.columns"
   ]
  },
  {
   "cell_type": "code",
   "execution_count": null,
   "metadata": {},
   "outputs": [],
   "source": [
    "df_15_1 = df_resumo_performance_escolar.groupby([\"Tipo Escola\"]).mean()[\"Nota Média Aprovação Redação\"]\n",
    "df_15_2 = df_resumo_performance_escolar.groupby([\"Tipo Escola\"]).mean()[\"Nota Média Aprovação Matemática\"]\n",
    "df_15_3 = df_resumo_performance_escolar.groupby([\"Tipo Escola\"]).mean()[\"% Aprovados Redação\"]\n",
    "df_15_4 = df_resumo_performance_escolar.groupby([\"Tipo Escola\"]).mean()[\"% Aprovados Matemática\"]\n",
    "df_15_5 = df_resumo_performance_escolar.groupby([\"Tipo Escola\"]).mean()[\"% Geral Aprovados\"]"
   ]
  },
  {
   "cell_type": "code",
   "execution_count": null,
   "metadata": {},
   "outputs": [],
   "source": [
    "df_performance_tipo_escola = pd.DataFrame({\"Média Redação\": df_15_1.round(2),\n",
    "                                           \"Média Matemática\": df_15_2.round(2),\n",
    "                                           \"% Aprovados Redação\": df_15_3.round(2),\n",
    "                                           \"% Aprovados Matemática\": df_15_4.round(2),\n",
    "                                           \"% Geral Aprovados\": df_15_5.round(2)})"
   ]
  },
  {
   "cell_type": "code",
   "execution_count": null,
   "metadata": {},
   "outputs": [],
   "source": [
    "df_performance_tipo_escola"
   ]
  },
  {
   "cell_type": "code",
   "execution_count": null,
   "metadata": {},
   "outputs": [],
   "source": [
    "df_resumo_performance_escolar.to_excel('dados/df_resumo_performance_escolar.xlsx')"
   ]
  }
 ],
 "metadata": {
  "anaconda-cloud": {},
  "kernel_info": {
   "name": "python3"
  },
  "kernelspec": {
   "display_name": "Python 3 (ipykernel)",
   "language": "python",
   "name": "python3"
  },
  "language_info": {
   "codemirror_mode": {
    "name": "ipython",
    "version": 3
   },
   "file_extension": ".py",
   "mimetype": "text/x-python",
   "name": "python",
   "nbconvert_exporter": "python",
   "pygments_lexer": "ipython3",
   "version": "3.9.12"
  },
  "latex_envs": {
   "LaTeX_envs_menu_present": true,
   "autoclose": false,
   "autocomplete": true,
   "bibliofile": "biblio.bib",
   "cite_by": "apalike",
   "current_citInitial": 1,
   "eqLabelWithNumbers": true,
   "eqNumInitial": 1,
   "hotkeys": {
    "equation": "Ctrl-E",
    "itemize": "Ctrl-I"
   },
   "labels_anchors": false,
   "latex_user_defs": false,
   "report_style_numbering": false,
   "user_envs_cfg": false
  },
  "nteract": {
   "version": "0.8.4"
  }
 },
 "nbformat": 4,
 "nbformat_minor": 1
}
